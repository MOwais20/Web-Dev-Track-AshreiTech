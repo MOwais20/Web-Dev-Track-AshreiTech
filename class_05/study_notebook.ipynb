{
 "cells": [
  {
   "cell_type": "markdown",
   "id": "bcdfca69",
   "metadata": {},
   "source": [
    "# Intermediate Python: Conditional Statements and Logical Operators\n",
    "\n",
    "This notebook will help you understand how to use `if`, `elif`, `else`, and logical operators like `and`, `or`, and `not` in real-world scenarios. We'll also build a small interactive app at the end!"
   ]
  },
  {
   "cell_type": "markdown",
   "id": "1d1062fc",
   "metadata": {},
   "source": [
    "## 1. Basic Conditional Statements\n",
    "The `if`, `elif`, and `else` statements let you control the flow of your program based on conditions."
   ]
  },
  {
   "cell_type": "code",
   "execution_count": null,
   "id": "034dbcff",
   "metadata": {},
   "outputs": [],
   "source": [
    "age = 18\n",
    "if age >= 18:\n",
    "    print(\"You are eligible to vote.\")\n",
    "else:\n",
    "    print(\"You are not eligible to vote.\")"
   ]
  },
  {
   "cell_type": "markdown",
   "id": "86191591",
   "metadata": {},
   "source": [
    "## 2. Using `and`, `or`, and `not`\n",
    "Logical operators help you combine multiple conditions.\n",
    "- `and`: True if both conditions are true\n",
    "- `or`: True if at least one condition is true\n",
    "- `not`: Inverts the condition (True becomes False, and vice versa)"
   ]
  },
  {
   "cell_type": "code",
   "execution_count": 4,
   "id": "56b378da",
   "metadata": {},
   "outputs": [
    {
     "name": "stdout",
     "output_type": "stream",
     "text": [
      "Login successful!\n"
     ]
    }
   ],
   "source": [
    "# Example with 'and'\n",
    "username = 'student'\n",
    "password = 'python123'\n",
    "if username == 'student' and password == 'python123':\n",
    "    print(\"Login successful!\")\n",
    "else:\n",
    "    print(\"Login failed!\")"
   ]
  },
  {
   "cell_type": "code",
   "execution_count": 7,
   "id": "4fdf582c",
   "metadata": {},
   "outputs": [
    {
     "name": "stdout",
     "output_type": "stream",
     "text": [
      "It's the weekend!\n"
     ]
    }
   ],
   "source": [
    "# Example with 'or'\n",
    "day = 'Saturday'\n",
    "if day == 'Saturday' or day == 'Sunday':\n",
    "    print(\"It's the weekend!\")\n",
    "else:\n",
    "    print(\"It's a weekday.\")"
   ]
  },
  {
   "cell_type": "code",
   "execution_count": 8,
   "id": "92ca4883",
   "metadata": {},
   "outputs": [
    {
     "name": "stdout",
     "output_type": "stream",
     "text": [
      "You can go outside!\n"
     ]
    }
   ],
   "source": [
    "# Example with 'not'\n",
    "is_raining = False\n",
    "if not is_raining:\n",
    "    print(\"You can go outside!\")\n",
    "else:\n",
    "    print(\"Take an umbrella!\")"
   ]
  },
  {
   "cell_type": "code",
   "execution_count": 9,
   "id": "c67a40f5",
   "metadata": {},
   "outputs": [
    {
     "name": "stdout",
     "output_type": "stream",
     "text": [
      "True\n",
      "False\n",
      "True\n",
      "False\n",
      "True\n",
      "True\n",
      "After x += 3: 8\n",
      "After y -= 4: 6\n",
      "After z *= 5: 15\n",
      "After a /= 4: 5.0\n",
      "After b %= 3: 1\n",
      "After c **= 3: 8\n",
      "After d //= 5: 3\n",
      "After d /= 5: 3.4\n"
     ]
    }
   ],
   "source": [
    "# Examples of '==' (equal to) and '!=' (not equal to)\n",
    "\n",
    "a = 10\n",
    "b = 20\n",
    "\n",
    "# '==' checks if values are equal\n",
    "print(a == 10)    # True\n",
    "print(b == 15)    # False\n",
    "\n",
    "# '!=' checks if values are not equal\n",
    "print(a != b)     # True\n",
    "print(a != 10)    # False\n",
    "\n",
    "# You can also use these with strings\n",
    "name = \"Alice\"\n",
    "print(name == \"Alice\")   # True\n",
    "print(name != \"Bob\")     # True\n",
    "\n",
    "# Compound assignment operators\n",
    "\n",
    "# += (Add and assign)\n",
    "x = 5\n",
    "x += 3  # Same as x = x + 3\n",
    "print(\"After x += 3:\", x)  # 8\n",
    "\n",
    "# -= (Subtract and assign)\n",
    "y = 10\n",
    "y -= 4  # Same as y = y - 4\n",
    "print(\"After y -= 4:\", y)  # 6\n",
    "\n",
    "# *= (Multiply and assign)\n",
    "z = 3\n",
    "z *= 5  # Same as z = z * 5\n",
    "print(\"After z *= 5:\", z)  # 15\n",
    "\n",
    "# /= (Divide and assign)\n",
    "a = 20\n",
    "a /= 4  # Same as a = a / 4\n",
    "print(\"After a /= 4:\", a)  # 5.0 (result is float)\n",
    "\n",
    "# %= (Modulus and assign)\n",
    "b = 7\n",
    "b %= 3  # Same as b = b % 3\n",
    "print(\"After b %= 3:\", b)  # 1 (remainder of 7 ÷ 3)\n",
    "\n",
    "# **= (Power and assign)\n",
    "c = 2\n",
    "c **= 3  # Same as c = c ** 3\n",
    "print(\"After c **= 3:\", c)  # 8 (2³)\n",
    "\n",
    "# //= (Floor divide and assign)\n",
    "d = 17\n",
    "d //= 5  # Same as d = d // 5\n",
    "print(\"After d //= 5:\", d)  # 3 (integer division)\n",
    "\n",
    "d = 17\n",
    "d /= 5  # Same as d = d / 5\n",
    "print(\"After d /= 5:\", d)  # 3.4 (floating-point division)\n",
    "\n",
    "# This created a float value:\n",
    "a = 20\n",
    "a /= 4  # Same as a = a / 4\n",
    "# Now a = 5.0 (not 5)\n",
    "\n",
    "# And here's another example:\n",
    "d = 17\n",
    "d /= 5  # Same as d = d / 5\n",
    "# Now d = 3.4\n",
    "\n",
    "# This is different from floor division (//), which returns an integer:\n",
    "d = 17\n",
    "d //= 5  # Same as d = d // 5\n",
    "# This gives d = 3 (integer, not float)"
   ]
  },
  {
   "cell_type": "markdown",
   "id": "d8b960af",
   "metadata": {},
   "source": [
    "## 3. Nested Conditions\n",
    "You can put one `if` statement inside another. This is called nesting."
   ]
  },
  {
   "cell_type": "code",
   "execution_count": null,
   "id": "ed889354",
   "metadata": {},
   "outputs": [
    {
     "name": "stdout",
     "output_type": "stream",
     "text": [
      "Grade: B\n"
     ]
    }
   ],
   "source": [
    "global score \n",
    "\n",
    "score = 85\n",
    "second_score_statement = 10\n",
    "if score >= 60:\n",
    "    if score >= 90:\n",
    "        print(\"Grade: A\")\n",
    "        extra_performance_score = score + 5\n",
    "        print(\"Extra performance score:\", extra_performance_score)\n",
    "    elif score >= 80:\n",
    "        print(\"Grade: B\")\n",
    "        print(second_score_statement)\n",
    "    else:\n",
    "        print(\"Grade: C\")\n",
    "else:\n",
    "    print(\"Fail\")"
   ]
  },
  {
   "cell_type": "markdown",
   "id": "3c7481d3",
   "metadata": {},
   "source": [
    "## 4. Mini App: Student Admission Checker\n",
    "Let's build an app that checks if a student is eligible for admission based on marks and age.\n",
    "- The student must have at least 70 marks in Math **and** at least 65 marks in English.\n",
    "- The student must be at least 16 years old.\n",
    "- If any condition is not met, print the reason.\n",
    "- Use `and`, `or`, and `not` where appropriate."
   ]
  },
  {
   "cell_type": "code",
   "execution_count": 11,
   "id": "62f55ef7",
   "metadata": {},
   "outputs": [
    {
     "name": "stdout",
     "output_type": "stream",
     "text": [
      "You need at least 70 marks in Math.\n",
      "You need at least 65 marks in English.\n"
     ]
    }
   ],
   "source": [
    "# Student Admission Checker\n",
    "math_marks = int(input('Enter Math marks: '))\n",
    "english_marks = int(input('Enter English marks: '))\n",
    "age = int(input('Enter your age: '))\n",
    "\n",
    "if math_marks >= 70 and english_marks >= 65 and age >= 16:\n",
    "    print('Congratulations! You are eligible for admission.')\n",
    "else:\n",
    "    if math_marks < 70:\n",
    "        print('You need at least 70 marks in Math.')\n",
    "    if english_marks < 65:\n",
    "        print('You need at least 65 marks in English.')\n",
    "    if age < 16:\n",
    "        print('You must be at least 16 years old.')"
   ]
  },
  {
   "cell_type": "markdown",
   "id": "c32c2b0d",
   "metadata": {},
   "source": [
    "## 5. Challenge: Build Your Own Eligibility App\n",
    "Try to build an app that checks if a person can get a driving license.\n",
    "- The person must be at least 18 years old **and** must pass an eye test (ask user to enter 'yes' or 'no').\n",
    "- If not eligible, print the reason(s).\n",
    "- Use all the logical operators you learned!\n"
   ]
  },
  {
   "cell_type": "code",
   "execution_count": null,
   "id": "e9f2c386",
   "metadata": {},
   "outputs": [
    {
     "name": "stdout",
     "output_type": "stream",
     "text": [
      "Wrong Input. Please enter 'yes' or 'no'.\n",
      "You are eligible to apply for a driving license.\n"
     ]
    }
   ],
   "source": [
    "user_age = int(input('Enter your age: '))\n",
    "user_eye_test = input(\"Eye test passed? (yes/no): \")\n",
    "\n",
    "user_eye_test = user_eye_test.lower()  # Convert input to lowercase for consistency\n",
    "if user_eye_test not in ['yes', 'no']:\n",
    "    print(\"Wrong Input. Please enter 'yes' or 'no'.\")\n",
    "elif user_eye_test == 'no':\n",
    "    print(\"You are not eligible to apply for a driving license.\")    \n",
    "\n",
    "\n",
    "if user_age >= 18:\n",
    "    print(\"You are eligible to apply for a driving license.\")\n",
    "else:\n",
    "    print(\"you are not eligible to apply for a driving license.\")\n"
   ]
  },
  {
   "cell_type": "markdown",
   "id": "120fae3f",
   "metadata": {},
   "source": [
    "## 🔨 Simple Applications (Practical Examples)\n",
    "Ab tak hamne alag alag concepts seekhay hain. Ab in concepts ko combine kar ke kuch simple applications banate hain jisse aap dekh sakein ke ye concepts real-world mein kaise use hote hain.\n",
    "\n",
    "### 1. Shopping Cart Application\n",
    "Is application mein hum:\n",
    "- Lists aur dictionaries use karenge\n",
    "- For loops ka istemal karenge\n",
    "- While loop se user input lenge\n"
   ]
  },
  {
   "cell_type": "code",
   "execution_count": null,
   "id": "ff6d8f44",
   "metadata": {},
   "outputs": [
    {
     "ename": "SyntaxError",
     "evalue": "expected ':' (2374908628.py, line 77)",
     "output_type": "error",
     "traceback": [
      "  \u001b[36mCell\u001b[39m\u001b[36m \u001b[39m\u001b[32mIn[2]\u001b[39m\u001b[32m, line 77\u001b[39m\n\u001b[31m    \u001b[39m\u001b[31mfinally {}\u001b[39m\n            ^\n\u001b[31mSyntaxError\u001b[39m\u001b[31m:\u001b[39m expected ':'\n"
     ]
    }
   ],
   "source": [
    "# Shopping Cart Application\n",
    "\n",
    "# Products dictionary with name and price\n",
    "products = {\n",
    "    \"1\": {\"name\": \"Kitab\", \"price\": 200},\n",
    "    \"2\": {\"name\": \"Qalam\", \"price\": 30},\n",
    "    \"3\": {\"name\": \"Copy\", \"price\": 50},\n",
    "    \"4\": {\"name\": \"Rubber\", \"price\": 10}\n",
    "}\n",
    "\n",
    "# Empty shopping cart (list of dictionaries)\n",
    "cart = []\n",
    "\n",
    "# Function to display all products\n",
    "def display_products():\n",
    "    print(\"\\n=== Available Products ===\")\n",
    "    print(\"ID | Name | Price\")\n",
    "    print(\"-----------------\")\n",
    "    for id, product in products.items():\n",
    "        print(f\"{id} | {product['name']} | Rs. {product['price']}\")\n",
    "\n",
    "# Function to display the cart\n",
    "def display_cart():\n",
    "    if not cart:\n",
    "        print(\"\\nAapka cart khali hai!\")\n",
    "        return\n",
    "    \n",
    "    print(\"\\n=== Aapka Shopping Cart ===\")\n",
    "    print(\"Name | Price | Quantity | Total\")\n",
    "    print(\"-----------------------------\")\n",
    "    \n",
    "    total_amount = 0\n",
    "    for item in cart:\n",
    "        item_total = item[\"price\"] * item[\"quantity\"]\n",
    "        total_amount += item_total\n",
    "        print(f\"{item['name']} | Rs. {item['price']} | {item['quantity']} | Rs. {item_total}\")\n",
    "    \n",
    "    print(f\"\\nTotal Amount: Rs. {total_amount}\")\n",
    "\n",
    "# Main program loop\n",
    "print(\"Welcome to Python Shopping Cart!\")\n",
    "\n",
    "while True:\n",
    "    print(\"\\n=== MENU ===\")\n",
    "    print(\"1: Products dekhein\")\n",
    "    print(\"2: Cart mein product add karein\")\n",
    "    print(\"3: Aapka cart dekhein\")\n",
    "    print(\"4: Exit\")\n",
    "    \n",
    "    choice = input(\"\\nApna choice enter karein (1-4): \")\n",
    "    loader = False\n",
    "    \n",
    "    if choice == \"1\":\n",
    "        display_products()\n",
    "    \n",
    "    elif choice == \"2\":\n",
    "        display_products()\n",
    "        product_id = input(\"\\nKonsa product add karna chahte hain? (ID enter karein): \")\n",
    "        \n",
    "        \n",
    "        if product_id in products:\n",
    "            try:\n",
    "                quantity = int(input(\"Kitne chahiye? (quantity enter karein): \"))\n",
    "                if quantity <= 0:\n",
    "                    print(\"Quantity positive honi chahiye!\")\n",
    "                    continue\n",
    "                    \n",
    "                # Add to cart\n",
    "                item = {\n",
    "                    \"name\": products[product_id][\"name\"],\n",
    "                    \"price\": products[product_id][\"price\"],\n",
    "                    \"quantity\": quantity\n",
    "                }\n",
    "                \n",
    "                loader = True\n",
    "                cart.append(item)\n",
    "                print(f\"{quantity} {products[product_id]['name']} cart mein add ho gaya!\")\n",
    "                \n",
    "            except ValueError:\n",
    "                print(\"Invalid quantity! Sirf number enter karein.\")\n",
    "               \n",
    "            finally:\n",
    "                print(\"Cart update complete.\")\n",
    "                loader = False\n",
    "        else:\n",
    "            print(\"Invalid product ID!\")\n",
    "    \n",
    "    elif choice == \"3\":\n",
    "        display_cart()\n",
    "    \n",
    "    elif choice == \"4\":\n",
    "        print(\"Thank you for shopping with us!\")\n",
    "        break\n",
    "    \n",
    "    else:\n",
    "        print(\"Invalid choice! Please enter 1-4.\")"
   ]
  },
  {
   "cell_type": "markdown",
   "id": "ca4f94c9",
   "metadata": {},
   "source": [
    "## 5. Challenge: Build Your Own Eligibility App\n",
    "Try to build an app that checks if a person can get a driving license.\n",
    "- The person must be at least 18 years old **and** must pass an eye test (ask user to enter 'yes' or 'no').\n",
    "- If not eligible, print the reason(s).\n",
    "- Use all the logical operators you learned!"
   ]
  }
 ],
 "metadata": {
  "kernelspec": {
   "display_name": "Python 3",
   "language": "python",
   "name": "python3"
  },
  "language_info": {
   "codemirror_mode": {
    "name": "ipython",
    "version": 3
   },
   "file_extension": ".py",
   "mimetype": "text/x-python",
   "name": "python",
   "nbconvert_exporter": "python",
   "pygments_lexer": "ipython3",
   "version": "3.11.0"
  }
 },
 "nbformat": 4,
 "nbformat_minor": 5
}
