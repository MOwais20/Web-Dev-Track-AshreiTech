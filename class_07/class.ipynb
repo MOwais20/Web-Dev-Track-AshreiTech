{
 "cells": [
  {
   "cell_type": "code",
   "execution_count": null,
   "id": "67122b85",
   "metadata": {},
   "outputs": [],
   "source": [
    "from fastapi import FastAPI\n",
    "from inventory import products\n",
    "\n",
    "\n",
    "# FastAPI app instance banate hain\n",
    "app = FastAPI()\n",
    "\n",
    "# Route define karte hain\n",
    "@app.get(\"/create-order\")\n",
    "def read_root():\n",
    "    return {\"products\": products}\n",
    "\n",
    "markAttendance = {\n",
    "        \"name\": \"Imtiaz\",\n",
    "        \"status\": False\n",
    "    }\n",
    "\n",
    "def find_student(id):\n",
    "    pass\n",
    "\n",
    "\n",
    "@app.get(\"/create-attendance\")\n",
    "def create_attendance():\n",
    "    \n",
    "    # find student by id\n",
    "    find_student(12)\n",
    "    \n",
    "    markAttendance[\"status\"] = True\n",
    "    \n",
    "    print(f\"Attendance marked for {markAttendance['name']}: {markAttendance['status']}\")\n",
    "    \n",
    "    return {\"message\": \"Attendance created successfully!\"}\n",
    "\n",
    "# Agar ye file directly run ho to server start karo\n",
    "if __name__ == \"__main__\":\n",
    "    import uvicorn\n",
    "    uvicorn.run(app, host=\"127.0.0.1\", port=8000)\n",
    "    \n",
    "# Note: Jupyter mein run karne ke liye upar wala code comment kar dein\n",
    "print(\"FastAPI app created! Server start karne ke liye terminal mein: uvicorn main:app --reload\")"
   ]
  },
  {
   "cell_type": "markdown",
   "id": "a98f079c",
   "metadata": {},
   "source": []
  },
  {
   "cell_type": "code",
   "execution_count": null,
   "id": "cdb93cfa",
   "metadata": {},
   "outputs": [],
   "source": []
  }
 ],
 "metadata": {
  "kernelspec": {
   "display_name": "Python 3",
   "language": "python",
   "name": "python3"
  },
  "language_info": {
   "codemirror_mode": {
    "name": "ipython",
    "version": 3
   },
   "file_extension": ".py",
   "mimetype": "text/x-python",
   "name": "python",
   "nbconvert_exporter": "python",
   "pygments_lexer": "ipython3",
   "version": "3.11.0"
  }
 },
 "nbformat": 4,
 "nbformat_minor": 5
}
