{
 "cells": [
  {
   "cell_type": "markdown",
   "id": "ba4d3a40",
   "metadata": {},
   "source": [
    "## Two Types of Decorators\n",
    "\n",
    "### Function Decorators\n",
    "\n",
    "**Definition:**  \n",
    "A decorator that wraps a regular (non-class) function to add extra behavior, like logging, timing, or access checks, without changing the function’s code.\n",
    "\n",
    "**Analogy:**  \n",
    "Imagine a “Log In” button on a school website. A function decorator is like adding a security guard who checks if you’re allowed to log in before the button works, without changing the login code.\n",
    "\n",
    "**Use Case:**  \n",
    "Adding a check to a website function, like ensuring a user is logged in before showing their grades.\n"
   ]
  },
  {
   "cell_type": "markdown",
   "id": "6e4a6b8e",
   "metadata": {},
   "source": [
    "Basic Idea: A decorator is a function that takes another function as input, adds some behavior (e.g., a check or a message), and returns a new function that includes the extra behavior.\n",
    "\n",
    "### Syntax: Decorators use the @ symbol above a function definition to “wrap” it.\n"
   ]
  },
  {
   "cell_type": "code",
   "execution_count": null,
   "id": "4620a37e",
   "metadata": {},
   "outputs": [
    {
     "name": "stdout",
     "output_type": "stream",
     "text": [
      "Authenticating user...\n",
      "Hello from the school website!\n",
      "User authenticated!\n"
     ]
    }
   ],
   "source": [
    "\n",
    "def my_decorator(func):  # Decorator function\n",
    "    def wrapper():       # Wraps the original function\n",
    "        print(\"Checking something before the function...\")\n",
    "        func()          # Call the original function\n",
    "        print(\"Finished after the function!\")\n",
    "    return wrapper\n",
    "\n",
    "def authenticate(func):\n",
    "    def wrapper():\n",
    "        print(\"Authenticating user...\")\n",
    "        func()          # Call the original function\n",
    "        print(\"User authenticated!\")\n",
    "    return wrapper\n",
    "    \n",
    "\n",
    "@authenticate\n",
    "def say_hello():  # Function being decorated\n",
    "    # print(\"Authenticating user...\")\n",
    "    print(\"Hello from the school website!\")\n",
    "    # print(\"User authenticated!\")\n",
    "\n",
    "say_hello()"
   ]
  },
  {
   "cell_type": "markdown",
   "id": "d2b6ec49",
   "metadata": {},
   "source": [
    "- Use Case of Decorators"
   ]
  },
  {
   "cell_type": "code",
   "execution_count": 5,
   "id": "955208c5",
   "metadata": {},
   "outputs": [
    {
     "name": "stdout",
     "output_type": "stream",
     "text": [
      "Checking if Ali is logged in...\n",
      "Ali's grade: 85\n",
      "Checking if Omar is logged in...\n",
      "Access denied: Please log in!\n"
     ]
    }
   ],
   "source": [
    "def require_login(func):  # Decorator\n",
    "    def wrapper(name):\n",
    "        print(f\"Checking if {name} is logged in...\")\n",
    "        if name in [\"Ali\", \"Sara\"]:  # Simulate valid users\n",
    "            func(name)  # Run the function if logged in\n",
    "        else:\n",
    "            print(\"Access denied: Please log in!\")\n",
    "    return wrapper\n",
    "\n",
    "@require_login\n",
    "def view_grades(name):  # Function for website\n",
    "    grades = {\"Ali\": 85, \"Sara\": 92}  # Mimic database\n",
    "    print(f\"{name}'s grade: {grades[name]}\")\n",
    "\n",
    "view_grades(\"Ali\")    # Output: Checking if Ali is logged in... Ali's grade: 85\n",
    "view_grades(\"Omar\")   # Output: Checking if Omar is logged in... Access denied: Please log in!"
   ]
  },
  {
   "cell_type": "markdown",
   "id": "f55bb8db",
   "metadata": {},
   "source": [
    "### Method Decorators\n",
    "\n",
    "**Definition:**  \n",
    "A decorator that wraps a method in a class (e.g., instance, class, or static methods) to add behavior, often using `@classmethod` or `@staticmethod`. They work with class data or perform utility tasks.\n",
    "\n",
    "**Analogy:**  \n",
    "Imagine a school website’s “Student Profile” page. A method decorator is like a special rule that changes how the profile works, like marking it as a shared task for all students or a general helper.\n",
    "\n",
    "**Use Case:**  \n",
    "Adding functionality to a class method, like validating a student’s input or sharing class-wide data (e.g., school name)."
   ]
  },
  {
   "cell_type": "code",
   "execution_count": 6,
   "id": "06c03881",
   "metadata": {},
   "outputs": [
    {
     "name": "stdout",
     "output_type": "stream",
     "text": [
      "Valid password\n",
      "School: Greenwood High\n"
     ]
    }
   ],
   "source": [
    "class Student:\n",
    "    school_name = \"Greenwood High\"  # Class attribute\n",
    "    \n",
    "    @staticmethod  # Method decorator\n",
    "    def is_valid_password(password):  # Static method, no self\n",
    "        if len(password) >= 6:\n",
    "            return \"Valid password\"\n",
    "        return \"Password too short\"\n",
    "\n",
    "    @classmethod  # Method decorator\n",
    "    def get_school(cls):  # Class method, uses cls\n",
    "        return f\"School: {cls.school_name}\"\n",
    "\n",
    "print(Student.is_valid_password(\"secret123\"))  # Output: Valid password\n",
    "print(Student.get_school())  # Output: School: Greenwood High"
   ]
  },
  {
   "cell_type": "markdown",
   "id": "947db775",
   "metadata": {},
   "source": [
    "What is Object-Oriented Programming (OOP)?\n",
    "Definition: Object-Oriented Programming (OOP) is a way of writing code that organizes it into objects, which are like real-world things (e.g., a student or a website user). Each object is created from a class (a blueprint) and can have data (attributes, like a student’s name) and actions (methods, like showing a grade). OOP makes code easier to manage, reuse, and scale, especially for building websites.\n",
    "\n",
    "Analogy: Think of OOP as a school with students (objects). The school has a student blueprint (class) that says every student has a name and grade (attributes) and can do things like check grades (methods). OOP organizes the website like a school, with clear rules for students and teachers.\n",
    "Why Use OOP?: It helps create structured, reusable code for web development, like managing user logins or grades on a school website, by grouping related data and actions.\n",
    "In Web Development: OOP is used in the backend (e.g., Python with Flask) to create objects for users, process their data (e.g., grades from a database), and send results to the frontend for display on the client’s device (browser).\n",
    "For Students: “OOP is like organizing a school website so each student has their own profile with their name, grades, and actions like viewing grades.”"
   ]
  }
 ],
 "metadata": {
  "kernelspec": {
   "display_name": "Python 3",
   "language": "python",
   "name": "python3"
  },
  "language_info": {
   "codemirror_mode": {
    "name": "ipython",
    "version": 3
   },
   "file_extension": ".py",
   "mimetype": "text/x-python",
   "name": "python",
   "nbconvert_exporter": "python",
   "pygments_lexer": "ipython3",
   "version": "3.11.0"
  }
 },
 "nbformat": 4,
 "nbformat_minor": 5
}
