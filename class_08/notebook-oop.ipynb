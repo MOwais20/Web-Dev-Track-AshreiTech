{
 "cells": [
  {
   "cell_type": "markdown",
   "id": "26f2bbc7",
   "metadata": {},
   "source": [
    "# Introduction to Object-Oriented Programming (OOP)\n",
    "\n",
    "Welcome to this Jupyter Notebook! We're learning **Object-Oriented Programming (OOP)**, a way to organize code like a school website organizes students and teachers. OOP uses **objects** (like students) created from **classes** (blueprints) to manage data and actions.\n",
    "\n",
    "**Why OOP?** It makes building websites easier by keeping code organized, reusable, and secure, like managing grades or logins on a school website.\n",
    "\n",
    "**Analogy**: Think of a school website. Each student is an object with a name and grade (data) and can do things like check grades (actions). OOP helps the website stay neat and work smoothly!\n",
    "\n",
    "In this notebook, we'll explore the **four pillars of OOP**: Encapsulation, Abstraction, Inheritance, and Polymorphism, with examples for a school website."
   ]
  },
  {
   "cell_type": "markdown",
   "id": "d7538d58",
   "metadata": {},
   "source": [
    "- Encapsulation\n",
    "- Abstraction\n",
    "- Inheritance\n",
    "- Polymorphism"
   ]
  },
  {
   "cell_type": "markdown",
   "id": "af877d25",
   "metadata": {},
   "source": [
    "## 1. Encapsulation: Locking Data in a Safe\n",
    "\n",
    "**What is it?** Encapsulation bundles data (like a student's password) and actions (methods) in a class, keeping some data private to protect it, like locking a diary.\n",
    "\n",
    "**Why use it?** It keeps sensitive info (e.g., passwords) safe on a website, only letting specific code access it.\n",
    "\n",
    "**Example**: Let's create a `Student` class where the password is private, and only a method can check it."
   ]
  },
  {
   "cell_type": "code",
   "execution_count": 23,
   "id": "299e586e",
   "metadata": {},
   "outputs": [
    {
     "data": {
      "text/plain": [
       "False"
      ]
     },
     "execution_count": 23,
     "metadata": {},
     "output_type": "execute_result"
    }
   ],
   "source": [
    "# Write a method to check a private `grade` (e.g., 85) and print \"Pass\" if it's ≥ 80.\n",
    "\n",
    "class Student:\n",
    "    def __init__(self, name, password, grade):\n",
    "        self.name = name\n",
    "        self.__password = password  # Private: Locked!\n",
    "        self.__grade = grade\n",
    "    \n",
    "    def check_password(self, input_password):  # Method to access private data\n",
    "        return self.__password == input_password\n",
    "    \n",
    "    def check_grade(self):\n",
    "        if self.__grade >= 80:\n",
    "            return \"Pass\"\n",
    "        else:\n",
    "            return \"Fail\"\n",
    "    \n",
    "\n",
    "# Create a student\n",
    "ali = Student(\"Ali\", \"secret123\", 85)\n",
    "\n",
    "class WebsiteLogin(Student):\n",
    "    def __init__(self, name, password, grade):\n",
    "        super().__init__(name, password, grade)\n",
    "    \n",
    "    def check_password(self, input_password):\n",
    "        return super().check_password(input_password)\n",
    "    \n",
    "\n",
    "my_website = WebsiteLogin(\"owais\", \"123456789\", 90)\n",
    "my_website.check_password(\"djgasjdfagsfjd\")\n",
    "\n",
    "# print(ali.check_password(\"secret123\"))  # Output: True\n",
    "\n",
    "# ali.check_grade()\n",
    "\n",
    "# print(ali.check_password(\"wrong\"))      # Output: False\n",
    "# print(ali.__grade)  # Error: Can't access private data!\n",
    "\n"
   ]
  },
  {
   "cell_type": "markdown",
   "id": "4c6ac494",
   "metadata": {},
   "source": [
    "**Explanation**: The `__password` is hidden (encapsulation), so the website's backend can safely check passwords without exposing them. The frontend shows \"Login successful\" if the check passes.\n",
    "\n",
    "**Try This**: Write a method to check a private `grade` (e.g., 85) and print \"Pass\" if it's ≥ 80."
   ]
  },
  {
   "cell_type": "markdown",
   "id": "9dcf2902",
   "metadata": {},
   "source": []
  },
  {
   "cell_type": "code",
   "execution_count": null,
   "id": "dcdc05ef",
   "metadata": {},
   "outputs": [],
   "source": [
    "# class Student:\n",
    "#     def __init__(self, name, grade):\n",
    "#         self.name = name\n",
    "#         self.__grade = grade  # Private attribute\n",
    "\n",
    "#     def check_pass(self):\n",
    "#         if self.__grade >= 80:\n",
    "#             print(\"Pass\")\n",
    "#         else:\n",
    "#             print(\"Fail\")\n",
    "\n",
    "# # Example usage\n",
    "# ali = Student(\"Ali\", 85)\n",
    "# ali.check_pass()  # Output: Pass"
   ]
  },
  {
   "cell_type": "markdown",
   "id": "6ba8398c",
   "metadata": {},
   "source": [
    "## 2. Abstraction: Making Things Simple\n",
    "\n",
    "**What is it?** Abstraction hides complex details and shows only what's needed, like a \"View Grades\" button on a website that doesn't show the database behind it.\n",
    "\n",
    "**Why use it?** It makes the website easy to use for students without them worrying about how it works.\n",
    "\n",
    "**Example**: A method to show a student's grade without showing how it's stored."
   ]
  },
  {
   "cell_type": "code",
   "execution_count": null,
   "id": "22f93e90",
   "metadata": {},
   "outputs": [],
   "source": [
    "class Student:\n",
    "    def __init__(self, name, grade):\n",
    "        self.name = name\n",
    "        self.grade = grade\n",
    "    \n",
    "    def show_grade(self):  # Simple interface\n",
    "        return f\"{self.name}'s grade: {self.grade}\"\n",
    "\n",
    "# Create a student\n",
    "ali = Student(\"Ali\", 85)\n",
    "print(ali.show_grade())  # Output: Ali's grade: 85"
   ]
  },
  {
   "cell_type": "markdown",
   "id": "75901785",
   "metadata": {},
   "source": [
    "**Explanation**: The `show_grade` method hides how grades are stored (e.g., in a database), making it simple for the frontend to display them.\n",
    "\n",
    "**Try This**: Write a method to show a student's attendance (e.g., \"Present\") without showing how it's calculated."
   ]
  },
  {
   "cell_type": "markdown",
   "id": "fb926634",
   "metadata": {},
   "source": [
    "## 3. Inheritance: Sharing Traits\n",
    "\n",
    "**What is it?** Inheritance lets a class (child) reuse code from another class (parent), like a teacher and student both having names but different roles.\n",
    "\n",
    "**Why use it?** It saves time by reusing code, like sharing a \"name\" field for all users on a website.\n",
    "\n",
    "**Example**: A `Teacher` class inherits from a `Person` class."
   ]
  },
  {
   "cell_type": "code",
   "execution_count": 21,
   "id": "5b393bf1",
   "metadata": {},
   "outputs": [
    {
     "name": "stdout",
     "output_type": "stream",
     "text": [
      "Name: Ms. Khan\n",
      "Ms. Khan is grading papers\n"
     ]
    }
   ],
   "source": [
    "class Person:\n",
    "    # Constructor to initialize the name\n",
    "    def __init__(self, name):\n",
    "        self.name = name\n",
    "    \n",
    "    def show_name(self):\n",
    "        return f\"Name: {self.name}\"\n",
    "\n",
    "class Teacher(Person):  # Inherits from Person\n",
    "    def grade_papers(self):\n",
    "        return f\"{self.name} is grading papers\"\n",
    "\n",
    "# Create a teacher\n",
    "teacher = Teacher(\"Ms. Khan\")\n",
    "print(teacher.show_name())      # Output: Name: Ms. Khan\n",
    "print(teacher.grade_papers())   # Output: Ms. Khan is grading papers"
   ]
  },
  {
   "cell_type": "markdown",
   "id": "0a7abfcc",
   "metadata": {},
   "source": [
    "**Explanation**: `Teacher` reuses `show_name` from `Person` and adds its own method. The backend uses this to manage different user types in a database.\n",
    "\n",
    "**Try This**: Create a `Student` class that inherits from `Person` and adds a `show_grade` method."
   ]
  },
  {
   "cell_type": "code",
   "execution_count": 5,
   "id": "77f378e9",
   "metadata": {},
   "outputs": [
    {
     "name": "stdout",
     "output_type": "stream",
     "text": [
      "grade: 85\n"
     ]
    }
   ],
   "source": [
    "class Student(Person):  # Inherits from Person\n",
    "    def __init__(self, grade):\n",
    "        self.grade = grade\n",
    "\n",
    "    def show_grade(self):\n",
    "        return f\"grade: {self.grade}\"\n",
    "\n",
    "# Example usage\n",
    "student = Student(85)\n",
    "print(student.show_grade())   # Output: Ali's grade: 85"
   ]
  },
  {
   "cell_type": "markdown",
   "id": "81304d9a",
   "metadata": {},
   "source": [
    "## 4. Polymorphism: Same Action, Different Results\n",
    "\n",
    "**What is it?** Polymorphism lets different classes use the same method name but do different things, like students and teachers introducing themselves differently.\n",
    "\n",
    "**Why use it?** It makes the website flexible, letting different users show unique info with the same code.\n",
    "\n",
    "**Example**: Students and teachers use the same method name but show different introductions."
   ]
  },
  {
   "cell_type": "code",
   "execution_count": null,
   "id": "6fbed67e",
   "metadata": {},
   "outputs": [],
   "source": [
    "class Student:\n",
    "    def __init__(self, name, grade = 80):\n",
    "        self.name = name\n",
    "        self.grade = grade\n",
    "    \n",
    "    def introduce(self):  # Same method name\n",
    "        return f\"I'm {self.name}, my grade is {self.grade}\"\n",
    "\n",
    "class Teacher:\n",
    "    def __init__(self, name, subject):\n",
    "        self.name = name\n",
    "        self.subject = subject\n",
    "    \n",
    "    def introduce(self):  # Same method name, different action\n",
    "        return f\"I'm {self.name}, I teach {self.subject}\"\n",
    "\n",
    "ali = Student(\"Ali\", 85)\n",
    "khan = Teacher(\"Ms. Khan\", \"Math\")\n",
    "print(ali.introduce())   # Output: I'm Ali, my grade is 85\n",
    "print(khan.introduce())  # Output: I'm Ms. Khan, I teach Math"
   ]
  },
  {
   "cell_type": "code",
   "execution_count": 27,
   "id": "408c7c44",
   "metadata": {},
   "outputs": [
    {
     "name": "stdout",
     "output_type": "stream",
     "text": [
      "Animal speaks\n"
     ]
    }
   ],
   "source": [
    "class Animal:\n",
    "    def speak(self):\n",
    "        print(\"Animal speaks\")\n",
    "\n",
    "class Dog(Animal):\n",
    "    def speak(self):\n",
    "        super().speak()  # Calls Animal's speak method\n",
    "        # print(\"Dog barks\")  # Overrides Animal's speak\n",
    "\n",
    "\n",
    "dog_class = Dog()\n",
    "dog_class.speak()  # Output: Dog barks\n",
    "\n",
    "# animal_class = Animal()\n",
    "# animal_class.speak()  # Output: Animal speaks\n",
    "\n"
   ]
  },
  {
   "cell_type": "markdown",
   "id": "d38069e3",
   "metadata": {},
   "source": [
    "**Explanation**: Both classes use `introduce`, but each does it differently. The backend can call `introduce` for any user type, and the frontend shows the right info.\n",
    "\n",
    "**Try This**: Add a `Parent` class with an `introduce` method that says something different (e.g., \"I'm a parent of…\")."
   ]
  },
  {
   "cell_type": "code",
   "execution_count": null,
   "id": "87ca22de",
   "metadata": {},
   "outputs": [
    {
     "name": "stdout",
     "output_type": "stream",
     "text": [
      "Value is 10\n",
      "Hello from Parent!\n",
      "Hello from Child!\n",
      "Dog barks\n",
      "3\n"
     ]
    },
    {
     "ename": "TypeError",
     "evalue": "Example.static_method() missing 1 required positional argument: 'self'",
     "output_type": "error",
     "traceback": [
      "\u001b[0;31m---------------------------------------------------------------------------\u001b[0m",
      "\u001b[0;31mTypeError\u001b[0m                                 Traceback (most recent call last)",
      "Cell \u001b[0;32mIn[36], line 71\u001b[0m\n\u001b[1;32m     67\u001b[0m     \u001b[38;5;129m@classmethod\u001b[39m\n\u001b[1;32m     68\u001b[0m     \u001b[38;5;28;01mdef\u001b[39;00m \u001b[38;5;21mcustom_methods\u001b[39m(\u001b[38;5;28mcls\u001b[39m):\n\u001b[1;32m     69\u001b[0m         \u001b[38;5;28mprint\u001b[39m(\u001b[38;5;124mf\u001b[39m\u001b[38;5;124m\"\u001b[39m\u001b[38;5;124mI\u001b[39m\u001b[38;5;124m'\u001b[39m\u001b[38;5;124mm a class method of \u001b[39m\u001b[38;5;132;01m{\u001b[39;00m\u001b[38;5;28mcls\u001b[39m\u001b[38;5;241m.\u001b[39m\u001b[38;5;18m__name__\u001b[39m\u001b[38;5;132;01m}\u001b[39;00m\u001b[38;5;124m\"\u001b[39m)\n\u001b[0;32m---> 71\u001b[0m Example\u001b[38;5;241m.\u001b[39mstatic_method()   \u001b[38;5;66;03m# Output: I'm a static method (no self)\u001b[39;00m\n\u001b[1;32m     72\u001b[0m Example\u001b[38;5;241m.\u001b[39mcustom_methods()\n",
      "\u001b[0;31mTypeError\u001b[0m: Example.static_method() missing 1 required positional argument: 'self'"
     ]
    }
   ],
   "source": [
    "# OOP Advanced Features Explained\n",
    "\n",
    "# 1. Why use 'self'?\n",
    "# 'self' refers to the current object instance. It lets methods access and modify the object's attributes.\n",
    "class DemoSelf:\n",
    "    def __init__(self, value):\n",
    "        self.value = value  # 'self.value' is unique to each object\n",
    "\n",
    "    def show(self):\n",
    "        print(f\"Value is {self.value}\")\n",
    "\n",
    "demo = DemoSelf(10)\n",
    "demo.show()  # Output: Value is 10\n",
    "\n",
    "# 2. Using 'super()'\n",
    "# 'super()' lets a child class call methods from its parent class.\n",
    "class Parent:\n",
    "    def greet(self):\n",
    "        print(\"Hello from Parent!\")\n",
    "\n",
    "class Child(Parent):\n",
    "    def greet(self):\n",
    "        super().greet()  # Calls Parent's greet\n",
    "        print(\"Hello from Child!\")\n",
    "\n",
    "child = Child()\n",
    "child.greet()\n",
    "# Output:\n",
    "# Hello from Parent!\n",
    "# Hello from Child!\n",
    "\n",
    "# 3. Method Overriding\n",
    "# A child class can override a method from its parent to change its behavior.\n",
    "class Animal:\n",
    "    def speak(self):\n",
    "        print(\"Animal speaks\")\n",
    "\n",
    "class Dog(Animal):\n",
    "    def speak(self):\n",
    "        print(\"Dog barks\")  # Overrides Animal's speak\n",
    "\n",
    "dog = Dog()\n",
    "dog.speak()  # Output: Dog barks\n",
    "\n",
    "# 4. Method Overloading (Pythonic way)\n",
    "# Python doesn't support traditional method overloading, but you can use default arguments.\n",
    "class Adder:\n",
    "    def add(self, a, b, c = 0):\n",
    "        return a + b + c\n",
    "\n",
    "adder = Adder()\n",
    "print(adder.add(1, 2))      # Output: 3\n",
    "# print(adder.add(1, 2, 3))   # Output: 6\n",
    "\n",
    "# 5. Decorators in Classes\n",
    "# Decorators like @staticmethod and @classmethod change how methods work.\n",
    "class Example():\n",
    "    \n",
    "    def __init__(self):\n",
    "        self.book_name = \"Python OOP\"\n",
    "    \n",
    "    \n",
    "    @staticmethod\n",
    "    def static_method():\n",
    "        print(\"I'm a static method (no self)\")\n",
    "\n",
    "    @classmethod\n",
    "    def custom_methods(cls):\n",
    "        print(f\"I'm a class method of {cls.__name__}\")\n",
    "\n",
    "Example.static_method()   # Output: I'm a static method (no self)\n",
    "Example.custom_methods()    # Output: I'm a class method of Example"
   ]
  },
  {
   "cell_type": "markdown",
   "id": "fad3c69d",
   "metadata": {},
   "source": [
    "## Wrap-Up\n",
    "\n",
    "**OOP makes websites awesome!**\n",
    "- **Encapsulation** keeps data safe (like passwords).\n",
    "- **Abstraction** makes buttons simple (like \"View Grades\").\n",
    "- **Inheritance** reuses code (like sharing names for students and teachers).\n",
    "- **Polymorphism** adds flexibility (like different introductions).\n",
    "\n",
    "**For Your Website**:\n",
    "- **Frontend**: Shows simple outputs (abstraction).\n",
    "- **Backend**: Secures data (encapsulation), reuses code (inheritance), and handles different users (polymorphism).\n",
    "- **Database**: Stores data like grades in a `dict` or `list`.\n",
    "\n",
    "**Activity**: Try one of the \"Try This\" tasks in Replit or JupyterLite. Draw a flowchart for the `check_password` method to plan it!"
   ]
  }
 ],
 "metadata": {
  "kernelspec": {
   "display_name": "base",
   "language": "python",
   "name": "python3"
  },
  "language_info": {
   "codemirror_mode": {
    "name": "ipython",
    "version": 3
   },
   "file_extension": ".py",
   "mimetype": "text/x-python",
   "name": "python",
   "nbconvert_exporter": "python",
   "pygments_lexer": "ipython3",
   "version": "3.12.4"
  }
 },
 "nbformat": 4,
 "nbformat_minor": 5
}
