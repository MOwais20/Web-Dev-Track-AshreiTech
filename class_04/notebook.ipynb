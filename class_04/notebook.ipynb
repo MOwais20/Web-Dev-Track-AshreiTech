{
 "cells": [
  {
   "cell_type": "markdown",
   "id": "d9145f7b",
   "metadata": {},
   "source": [
    "## 🎱 Tuples\n",
    "Tuple aik **box** jaisa hota hai lekin immutable yani badla nahi ja sakta.\n",
    "\n",
    "- Tuples round brackets `()` mein likhte hain.\n",
    "- Ek martaba create karne ke baad iski values change nahi kar sakte.\n",
    "\n",
    "**Example:**"
   ]
  },
  {
   "cell_type": "code",
   "execution_count": null,
   "id": "3fa83182",
   "metadata": {},
   "outputs": [
    {
     "name": "stdout",
     "output_type": "stream",
     "text": [
      "[1, 2, 3, 4]\n",
      "[5, 2, 3, 4]\n"
     ]
    }
   ],
   "source": [
    "# Tuple example\n",
    "numbers = (1, 2, 3, 4)\n",
    "\n",
    "print(numbers)\n",
    "\n",
    "numbers[0] = 5  # Error: Tuple is immutable\n",
    "\n",
    "print(numbers)\n",
    "\n",
    "# # Accessing elements in a tuple\n",
    "# print(numbers[2])  # 3"
   ]
  },
  {
   "cell_type": "markdown",
   "id": "75a4c729",
   "metadata": {},
   "source": [
    "### Use Case: Tuples\n",
    "Kabhi agar aapko constant values group karni ho jo change na hon (jaise month names), tuples use karte hain.\n",
    "\n",
    "**Example:**"
   ]
  },
  {
   "cell_type": "code",
   "execution_count": 17,
   "id": "60f42cd1",
   "metadata": {},
   "outputs": [
    {
     "name": "stdout",
     "output_type": "stream",
     "text": [
      "Jan\n",
      "Feb\n",
      "Mar\n",
      "Apr\n",
      "Colors tuple: ('red', 'green', 'blue')\n",
      "First color: red\n",
      "Student Record: ('Owais', 15, 'Karachi', ['Math', 'Science'])\n",
      "Products: ({'name': 'Laptop', 'price': 1000}, {'name': 'Phone', 'price': 500})\n"
     ]
    }
   ],
   "source": [
    "# Months of the year as tuple\n",
    "months = (\"Jan\", \"Feb\", \"Mar\", \"Apr\")\n",
    "for m in months:\n",
    "    print(m)\n",
    "# months[0] = 'January'  # Error: Tuples immutable\n",
    "\n",
    "# Example: Tuple of colors\n",
    "colors = (\"red\", \"green\", \"blue\")\n",
    "print(\"Colors tuple:\", colors)\n",
    "print(\"First color:\", colors[0])\n",
    "\n",
    "# Example: Tuple for student record (name, age, city)\n",
    "student_record = (\"Owais\", 15, \"Karachi\", [\"Math\", \"Science\"])\n",
    "print(\"Student Record:\", student_record)\n",
    "\n",
    "products = ({\"name\": \"Laptop\", \"price\": 1000}, {\"name\": \"Phone\", \"price\": 500})\n",
    "print(\"Products:\", products)\n",
    "\n",
    "# Example: Tuple for coordinates (latitude, longitude)\n",
    "# location = (24.8607, 67.0011)\n",
    "# print(\"Location coordinates:\", location)"
   ]
  },
  {
   "cell_type": "markdown",
   "id": "c2b60fdc",
   "metadata": {},
   "source": [
    "## 🗄️ Data Structures Kya Hain?\n",
    "Data Structures wo tareeqay hain jin se hum data ko organize, store aur manage karte hain, taa ke hum asani se data read, write aur modify kar saken. Ye large ya complex data ko efficient tareeqay se istemal karne mein madad karte hain.\n",
    "\n",
    "**Use Case (Kaha kaam aate hain?):**\n",
    "- Jab aapko data ko logical groups mein arrange karna ho\n",
    "- Jab aapko fast lookup aur retrieval chahiye ho\n",
    "- Jab aapko data ki integrity maintain karni ho (immutable vs mutable)\n",
    "\n",
    "**Examples (Code):**\n",
    "```python\n",
    "# 1. List (Ordered aur mutable):\n",
    "fruits = [\"apple\", \"banana\", \"mango\"]\n",
    "print(fruits)\n",
    "\n",
    "# 2. Dictionary (Key-value pairs, mutable):\n",
    "student = {\"naam\": \"Ali\", \"age\": 15}\n",
    "print(student)\n",
    "\n",
    "# 3. Tuple (Ordered aur immutable):\n",
    "months = (\"Jan\", \"Feb\", \"Mar\")\n",
    "print(months)\n",
    "\n",
    "# 4. Sets\n",
    "student_ids = {101, 102, 101}  # Duplicates removed\n",
    "print(student_ids)  # Output: {101, 102}\n",
    "\n",
    "# Definition: An unordered collection of unique items, stored in curly braces (e.g., {1, 2, 3}).\n",
    "# Use Case: Storing unique student IDs or tags to avoid duplicates (less common for beginners).\n",
    "\n",
    "```"
   ]
  },
  {
   "cell_type": "code",
   "execution_count": 16,
   "id": "cd429313",
   "metadata": {},
   "outputs": [
    {
     "name": "stdout",
     "output_type": "stream",
     "text": [
      "{'jan', 'feb'}\n"
     ]
    }
   ],
   "source": [
    "student_ids = {\"jan\", \"feb\", \"jan\"}  # Duplicates removed\n",
    "print(student_ids)  # Output: {101, 102}"
   ]
  },
  {
   "cell_type": "code",
   "execution_count": 22,
   "id": "88615270",
   "metadata": {},
   "outputs": [],
   "source": [
    "tuples = (1, 2, 3, 4, 5, 6)"
   ]
  },
  {
   "cell_type": "code",
   "execution_count": null,
   "id": "4cd7a756",
   "metadata": {},
   "outputs": [
    {
     "name": "stdout",
     "output_type": "stream",
     "text": [
      "(1, 2, 3, 4, 5, 6)\n"
     ]
    },
    {
     "ename": "TypeError",
     "evalue": "'tuple' object does not support item assignment",
     "output_type": "error",
     "traceback": [
      "\u001b[0;31m---------------------------------------------------------------------------\u001b[0m",
      "\u001b[0;31mTypeError\u001b[0m                                 Traceback (most recent call last)",
      "Cell \u001b[0;32mIn[23], line 3\u001b[0m\n\u001b[1;32m      1\u001b[0m \u001b[38;5;28mprint\u001b[39m(tuples)\n\u001b[0;32m----> 3\u001b[0m tuples[\u001b[38;5;241m0\u001b[39m] \u001b[38;5;241m=\u001b[39m \u001b[38;5;241m5\u001b[39m\n",
      "\u001b[0;31mTypeError\u001b[0m: 'tuple' object does not support item assignment"
     ]
    }
   ],
   "source": [
    "print(tuples)\n",
    "\n",
    "# tuples[0] = 5  # Error: Tuple is immutable"
   ]
  },
  {
   "cell_type": "markdown",
   "id": "80718954",
   "metadata": {},
   "source": []
  },
  {
   "cell_type": "markdown",
   "id": "769372b7",
   "metadata": {},
   "source": [
    "## 🔄 Loops in Python (Repeat karne ka tareeqa)\n",
    "Loops ka use hum tab karte hain jab humein koi kaam bar bar repeat karna ho. Python mein mainly do tarah ke loops hote hain:\n",
    "- **for loop**\n",
    "- **while loop**\n",
    "\n",
    "### 1️⃣ For Loop\n",
    "For loop ka use tab hota hai jab humein kisi list, tuple, string ya kisi bhi collection ke har item par kaam karna ho.\n",
    "\n",
    "**Syntax:**\n",
    "```python\n",
    "for item in collection:\n",
    "    # yahan code likhein jo repeat hoga\n",
    "```\n",
    "\n",
    "**Use Case:**\n",
    "- List ke tamam items ko print karna\n",
    "- Kisi range ke numbers par calculation karna\n",
    "- Strings ke har character ko process karna\n",
    "\n",
    "**Example:**\n",
    "```python\n",
    "fruits = [\"apple\", \"banana\", \"mango\"]\n",
    "for fruit in fruits:\n",
    "    print(fruit)\n",
    "```\n",
    "\n",
    "### 2️⃣ While Loop\n",
    "While loop ka use tab hota hai jab humein koi kaam tab tak repeat karna ho jab tak koi condition true hai.\n",
    "\n",
    "**Syntax:**\n",
    "```python\n",
    "while condition:\n",
    "    # yahan code likhein jo repeat hoga\n",
    "```\n",
    "\n",
    "**Break Statement (Loop se bahar nikalna):**  \n",
    "Kabhi kabhi humein loop ko beech mein rokna hota hai, chahe condition abhi bhi true ho. Iske liye `break` statement use karte hain.  \n",
    "- **Kya hai?** `break` loop ko turant band kar deta hai.\n",
    "- **Kyu zaroori hai?** Jab kisi special condition par loop ko rokna ho (jaise user ne 'exit' likh diya).\n",
    "\n",
    "**Example:**\n",
    "```python\n",
    "while True:\n",
    "    user_input = input(\"Exit ke liye 'x' likhein: \")\n",
    "    if user_input == 'x':\n",
    "        print(\"Loop break ho gaya!\")\n",
    "        break\n",
    "    print(\"Aapne likha:\", user_input)\n",
    "```\n",
    "    print(\"Count:\", count)\n",
    "    count += 1\n",
    "```\n",
    "\n",
    "### 3️⃣ Nested Loops\n",
    "Agar ek loop ke andar doosra loop ho to usay nested loop kehte hain. Ye tab use hota hai jab humein 2D data (jaise matrix) ya combinations par kaam karna ho.\n",
    "\n",
    "**Example:**\n",
    "```python\n",
    "for i in range(1, 4):\n",
    "    for j in range(1, 3):\n",
    "        print(f\"i={i}, j={j}\")\n",
    "```\n",
    "\n",
    "### Summary Table\n",
    "| Loop Type   | Kab Use Karein? | Example Use Case |\n",
    "|------------|-----------------|------------------|\n",
    "| for loop   | Jab items ki list ya range ho | List ke items print karna |\n",
    "| while loop | Jab tak koi condition true ho | User input validate karna |\n",
    "| nested loop| 2D data ya combinations | Multiplication table, matrix |\n",
    "\n",
    "Loops se hum repetitive tasks ko asaan aur efficient bana sakte hain!"
   ]
  },
  {
   "cell_type": "code",
   "execution_count": 6,
   "id": "da237552",
   "metadata": {},
   "outputs": [
    {
     "name": "stdout",
     "output_type": "stream",
     "text": [
      "apple\n",
      "banana\n",
      "mango\n",
      "Number: 1\n",
      "Number: 2\n",
      "Number: 3\n",
      "Number: 4\n",
      "Number: 5\n",
      "Index: 0, Fruit: apple\n",
      "Index: 1, Fruit: banana\n",
      "Index: 2, Fruit: mango\n",
      "Color: red\n",
      "Color: green\n",
      "Color: blue\n",
      "Character: m\n",
      "Character: a\n",
      "Character: n\n",
      "Character: g\n",
      "Character: o\n",
      "Month: Jan\n",
      "Month: Feb\n",
      "Month: Mar\n",
      "Month: Apr\n"
     ]
    }
   ],
   "source": [
    "# Simple for loop example\n",
    "fruits = [\"apple\", \"banana\", \"mango\"]\n",
    "for fruit in fruits:\n",
    "    print(fruit)  # Har fruit print hoga\n",
    "\n",
    "# For loop with range example\n",
    "for i in range(1, 6):\n",
    "    print(\"Number:\", i)  # 1 se 5 tak numbers print honge\n",
    "\n",
    "# For loop with enumerate example\n",
    "for idx, fruit in enumerate(fruits):\n",
    "    print(f\"Index: {idx}, Fruit: {fruit}\")  # Index ke sath fruit print hoga\n",
    "\n",
    "\n",
    "# Tuple par loop (colors)\n",
    "for color in colors:\n",
    "    print(\"Color:\", color)\n",
    "\n",
    "# String par loop (fruit)\n",
    "for char in fruit:\n",
    "    print(\"Character:\", char)\n",
    "\n",
    "# Kisi bhi collection (months tuple)\n",
    "for month in months:\n",
    "    print(\"Month:\", month)"
   ]
  },
  {
   "cell_type": "code",
   "execution_count": null,
   "id": "c796aa9b",
   "metadata": {},
   "outputs": [
    {
     "name": "stdout",
     "output_type": "stream",
     "text": [
      "Character: A\n",
      "Character: B\n",
      "Character: C\n"
     ]
    }
   ],
   "source": [
    "school = [\"ABC\", \"BCD\", \"XYZ\"]\n",
    "\n",
    "for character in school:\n",
    "\n",
    "    if character == \"BCD\":\n",
    "        break\n",
    "\n",
    "    print(\"Character:\", character)  \n",
    "\n",
    "\n",
    "while True:\n",
    "    print(5)"
   ]
  },
  {
   "cell_type": "markdown",
   "id": "3a6a3321",
   "metadata": {},
   "source": [
    "### Note: range(1, 6) mein 6 print kyu nahi hota?\n",
    "Python ka `range(start, end)` function start se shuru hota hai, lekin end number ko include nahi karta. Isliye `range(1, 6)` numbers 1 se 5 tak print karega, 6 nahi. Agar aap 1 se 6 tak print karna chahte hain to `range(1, 7)` likhein.\n",
    "\n",
    "### enumerate() kya karta hai?\n",
    "`enumerate()` function list (ya kisi bhi iterable) ke har item ke sath uska index bhi deta hai. Iska fayda hai ke aapko item ke sath uski position (index) bhi mil jati hai. For example, agar aap fruits ki list par loop chala rahe hain, to enumerate se aapko har fruit ka index aur naam dono milenge."
   ]
  },
  {
   "cell_type": "code",
   "execution_count": null,
   "id": "0a986c24",
   "metadata": {},
   "outputs": [
    {
     "name": "stdout",
     "output_type": "stream",
     "text": [
      "Count: 1\n",
      "Count: 2\n",
      "Count: 3\n",
      "Count: 4\n",
      "Count: 5\n",
      "Count: 6\n"
     ]
    }
   ],
   "source": [
    "# Simple while loop example (counter)\n",
    "count = 1\n",
    "while count <= 6:\n",
    "\n",
    "    print(\"Count:\", count)\n",
    "    count = count + 1  # count ko 1 barha dein"
   ]
  },
  {
   "cell_type": "code",
   "execution_count": 9,
   "id": "a12255fc",
   "metadata": {},
   "outputs": [
    {
     "name": "stdout",
     "output_type": "stream",
     "text": [
      "Aapka input: 1\n",
      "Aapka input: 2\n",
      "Aapka input: 3\n",
      "Aapka input: 4\n",
      "Aapne 'yes' likh diya, program continue ho gaya!\n"
     ]
    }
   ],
   "source": [
    "# User input validation with while loop\n",
    "user_input = \"\"\n",
    "input_count = 0\n",
    "\n",
    "while user_input != \"yes\":\n",
    "\n",
    "    if input_count == 4:\n",
    "        break\n",
    "\n",
    "    user_input = input(\"Kya aap continue karna chahte hain? (yes/no): \")\n",
    "    input_count = input_count + 1  # Input count barhao\n",
    "\n",
    "    print(\"Aapka input:\", input_count)\n",
    "print(\"Aapne 'yes' likh diya, program continue ho gaya!\")\n"
   ]
  },
  {
   "cell_type": "code",
   "execution_count": 13,
   "id": "820f0fe5",
   "metadata": {},
   "outputs": [
    {
     "name": "stdout",
     "output_type": "stream",
     "text": [
      "Option 1 select kiya\n",
      "Option 2 select kiya\n",
      "Invalid option!\n",
      "Exit ho rahe hain...\n"
     ]
    }
   ],
   "source": [
    "# Infinite loop with break (menu example)\n",
    "while True:\n",
    "    option = input(\"Menu se option chunein (1 ya 2, exit ke liye x): \")\n",
    "    if option == '1':\n",
    "        print(\"Option 1 select kiya\")\n",
    "    elif option == '2':\n",
    "        print(\"Option 2 select kiya\")\n",
    "    elif option == 'x':\n",
    "        print(\"Exit ho rahe hain...\")\n",
    "        break\n",
    "    else:\n",
    "        print(\"Invalid option!\")"
   ]
  },
  {
   "cell_type": "markdown",
   "id": "eb208a98",
   "metadata": {},
   "source": [
    "## Four Pillars of OOP:\n",
    "\n",
    "- **Encapsulation:** Data ko ek jagah band karna (jaise dabbe mein rakhna).\n",
    "- **Abstraction:** Sirf zaroori cheezein dikhana, details chhupa lena.\n",
    "- **Inheritance:** Purane code ki khaslat nayi cheezon ko dena.\n",
    "- **Polymorphism:** Ek hi kaam mukhtalif tareeqon se karna."
   ]
  },
  {
   "cell_type": "markdown",
   "id": "9c196be6",
   "metadata": {},
   "source": []
  },
  {
   "cell_type": "markdown",
   "id": "fd267d5a",
   "metadata": {},
   "source": []
  },
  {
   "cell_type": "markdown",
   "id": "bd02f735",
   "metadata": {},
   "source": [
    "## 🔨 Simple Applications (Practical Examples)\n",
    "Ab tak hamne alag alag concepts seekhay hain. Ab in concepts ko combine kar ke kuch simple applications banate hain jisse aap dekh sakein ke ye concepts real-world mein kaise use hote hain.\n",
    "\n",
    "### 1. Shopping Cart Application\n",
    "Is application mein hum:\n",
    "- Lists aur dictionaries use karenge\n",
    "- For loops ka istemal karenge\n",
    "- While loop se user input lenge"
   ]
  },
  {
   "cell_type": "code",
   "execution_count": null,
   "id": "cc339633",
   "metadata": {},
   "outputs": [],
   "source": [
    "# Shopping Cart Application\n",
    "\n",
    "# Products dictionary with name and price\n",
    "products = {\n",
    "    \"1\": {\"name\": \"Kitab\", \"price\": 200},\n",
    "    \"2\": {\"name\": \"Qalam\", \"price\": 30},\n",
    "    \"3\": {\"name\": \"Copy\", \"price\": 50},\n",
    "    \"4\": {\"name\": \"Rubber\", \"price\": 10}\n",
    "}\n",
    "\n",
    "# Empty shopping cart (list of dictionaries)\n",
    "cart = []\n",
    "\n",
    "# Function to display all products\n",
    "def display_products():\n",
    "    print(\"\\n=== Available Products ===\")\n",
    "    print(\"ID | Name | Price\")\n",
    "    print(\"-----------------\")\n",
    "    for id, product in products.items():\n",
    "        print(f\"{id} | {product['name']} | Rs. {product['price']}\")\n",
    "\n",
    "# Function to display the cart\n",
    "def display_cart():\n",
    "    if not cart:\n",
    "        print(\"\\nAapka cart khali hai!\")\n",
    "        return\n",
    "    \n",
    "    print(\"\\n=== Aapka Shopping Cart ===\")\n",
    "    print(\"Name | Price | Quantity | Total\")\n",
    "    print(\"-----------------------------\")\n",
    "    \n",
    "    total_amount = 0\n",
    "    for item in cart:\n",
    "        item_total = item[\"price\"] * item[\"quantity\"]\n",
    "        total_amount += item_total\n",
    "        print(f\"{item['name']} | Rs. {item['price']} | {item['quantity']} | Rs. {item_total}\")\n",
    "    \n",
    "    print(f\"\\nTotal Amount: Rs. {total_amount}\")\n",
    "\n",
    "# Main program loop\n",
    "print(\"Welcome to Python Shopping Cart!\")\n",
    "\n",
    "while True:\n",
    "    print(\"\\n=== MENU ===\")\n",
    "    print(\"1: Products dekhein\")\n",
    "    print(\"2: Cart mein product add karein\")\n",
    "    print(\"3: Aapka cart dekhein\")\n",
    "    print(\"4: Exit\")\n",
    "    \n",
    "    choice = input(\"\\nApna choice enter karein (1-4): \")\n",
    "    \n",
    "    if choice == \"1\":\n",
    "        display_products()\n",
    "    \n",
    "    elif choice == \"2\":\n",
    "        display_products()\n",
    "        product_id = input(\"\\nKonsa product add karna chahte hain? (ID enter karein): \")\n",
    "        \n",
    "        if product_id in products:\n",
    "            try:\n",
    "                quantity = int(input(\"Kitne chahiye? (quantity enter karein): \"))\n",
    "                if quantity <= 0:\n",
    "                    print(\"Quantity positive honi chahiye!\")\n",
    "                    continue\n",
    "                    \n",
    "                # Add to cart\n",
    "                item = {\n",
    "                    \"name\": products[product_id][\"name\"],\n",
    "                    \"price\": products[product_id][\"price\"],\n",
    "                    \"quantity\": quantity\n",
    "                }\n",
    "                cart.append(item)\n",
    "                print(f\"{quantity} {products[product_id]['name']} cart mein add ho gaya!\")\n",
    "                \n",
    "            except ValueError:\n",
    "                print(\"Invalid quantity! Sirf number enter karein.\")\n",
    "        else:\n",
    "            print(\"Invalid product ID!\")\n",
    "    \n",
    "    elif choice == \"3\":\n",
    "        display_cart()\n",
    "    \n",
    "    elif choice == \"4\":\n",
    "        print(\"Thank you for shopping with us!\")\n",
    "        break\n",
    "    \n",
    "    else:\n",
    "        print(\"Invalid choice! Please enter 1-4.\")"
   ]
  },
  {
   "cell_type": "markdown",
   "id": "c7e66766",
   "metadata": {},
   "source": [
    "### 2. Simple Calculator with OOP\n",
    "Is application mein hum:\n",
    "- OOP (Object-Oriented Programming) use karenge\n",
    "- Class aur methods define karenge\n",
    "- User input ke sath interact karenge"
   ]
  },
  {
   "cell_type": "code",
   "execution_count": null,
   "id": "a7c816a7",
   "metadata": {},
   "outputs": [],
   "source": [
    "# Simple Calculator with OOP\n",
    "\n",
    "class Calculator:\n",
    "    \"\"\"\n",
    "    A simple calculator class with basic arithmetic operations\n",
    "    \"\"\"\n",
    "    \n",
    "    def __init__(self):\n",
    "        # Constructor - initialize variables\n",
    "        self.result = 0\n",
    "        self.history = []  # List to store calculation history\n",
    "    \n",
    "    def add(self, a, b):\n",
    "        \"\"\"Addition method\"\"\"\n",
    "        result = a + b\n",
    "        self.result = result\n",
    "        self.history.append(f\"{a} + {b} = {result}\")\n",
    "        return result\n",
    "    \n",
    "    def subtract(self, a, b):\n",
    "        \"\"\"Subtraction method\"\"\"\n",
    "        result = a - b\n",
    "        self.result = result\n",
    "        self.history.append(f\"{a} - {b} = {result}\")\n",
    "        return result\n",
    "    \n",
    "    def multiply(self, a, b):\n",
    "        \"\"\"Multiplication method\"\"\"\n",
    "        result = a * b\n",
    "        self.result = result\n",
    "        self.history.append(f\"{a} × {b} = {result}\")\n",
    "        return result\n",
    "    \n",
    "    def divide(self, a, b):\n",
    "        \"\"\"Division method\"\"\"\n",
    "        if b == 0:\n",
    "            self.history.append(f\"{a} ÷ {b} = Error (Division by zero)\")\n",
    "            return \"Error: Division by zero\"\n",
    "        \n",
    "        result = a / b\n",
    "        self.result = result\n",
    "        self.history.append(f\"{a} ÷ {b} = {result}\")\n",
    "        return result\n",
    "    \n",
    "    def get_last_result(self):\n",
    "        \"\"\"Return the last calculation result\"\"\"\n",
    "        return self.result\n",
    "    \n",
    "    def show_history(self):\n",
    "        \"\"\"Display calculation history\"\"\"\n",
    "        if not self.history:\n",
    "            print(\"No calculations performed yet!\")\n",
    "            return\n",
    "        \n",
    "        print(\"\\n=== Calculation History ===\")\n",
    "        for idx, calc in enumerate(self.history, 1):\n",
    "            print(f\"{idx}. {calc}\")\n",
    "\n",
    "\n",
    "# Main program\n",
    "def main():\n",
    "    # Create calculator object\n",
    "    calc = Calculator()\n",
    "    \n",
    "    print(\"Welcome to Simple Calculator!\")\n",
    "    \n",
    "    while True:\n",
    "        print(\"\\n=== MENU ===\")\n",
    "        print(\"1: Addition\")\n",
    "        print(\"2: Subtraction\")\n",
    "        print(\"3: Multiplication\")\n",
    "        print(\"4: Division\")\n",
    "        print(\"5: Show calculation history\")\n",
    "        print(\"6: Exit\")\n",
    "        \n",
    "        choice = input(\"\\nApna choice enter karein (1-6): \")\n",
    "        \n",
    "        if choice in [\"1\", \"2\", \"3\", \"4\"]:\n",
    "            try:\n",
    "                num1 = float(input(\"Enter first number: \"))\n",
    "                num2 = float(input(\"Enter second number: \"))\n",
    "                \n",
    "                if choice == \"1\":\n",
    "                    result = calc.add(num1, num2)\n",
    "                    print(f\"Result: {num1} + {num2} = {result}\")\n",
    "                \n",
    "                elif choice == \"2\":\n",
    "                    result = calc.subtract(num1, num2)\n",
    "                    print(f\"Result: {num1} - {num2} = {result}\")\n",
    "                \n",
    "                elif choice == \"3\":\n",
    "                    result = calc.multiply(num1, num2)\n",
    "                    print(f\"Result: {num1} × {num2} = {result}\")\n",
    "                \n",
    "                elif choice == \"4\":\n",
    "                    result = calc.divide(num1, num2)\n",
    "                    print(f\"Result: {num1} ÷ {num2} = {result}\")\n",
    "                \n",
    "            except ValueError:\n",
    "                print(\"Invalid input! Please enter valid numbers.\")\n",
    "        \n",
    "        elif choice == \"5\":\n",
    "            calc.show_history()\n",
    "        \n",
    "        elif choice == \"6\":\n",
    "            print(\"Thank you for using Simple Calculator!\")\n",
    "            break\n",
    "        \n",
    "        else:\n",
    "            print(\"Invalid choice! Please enter 1-6.\")\n",
    "\n",
    "# Run the program\n",
    "main()"
   ]
  },
  {
   "cell_type": "markdown",
   "id": "d0d5bad9",
   "metadata": {},
   "source": [
    "## 🌟 Conclusion\n",
    "Ye simple applications hamne is liye banai hain ke aap dekh sakein ke Python ke basic concepts ko real-world applications mein kaise use kiya ja sakta hai.\n",
    "\n",
    "Hamne in applications mein use kiye:\n",
    "1. **Data Structures** - Lists, Tuples, Dictionaries\n",
    "2. **Loops** - For loops, While loops, Break statements\n",
    "3. **Functions** - Modular code organization\n",
    "4. **OOP Concepts** - Classes, Methods, Encapsulation\n",
    "\n",
    "Aap in applications ko modify kar ke aur features add kar sakte hain, jaise:\n",
    "- Shopping Cart mein product search ya discount add karna\n",
    "- To-Do List mein due dates ya categories add karna\n",
    "- Number Game mein hints ya scoring system add karna\n",
    "- Calculator mein more complex operations add karna\n",
    "\n",
    "Practice ke liye, koshish karein in applications ko enhance karein ya phir apni new applications create karein!"
   ]
  }
 ],
 "metadata": {
  "kernelspec": {
   "display_name": "base",
   "language": "python",
   "name": "python3"
  },
  "language_info": {
   "codemirror_mode": {
    "name": "ipython",
    "version": 3
   },
   "file_extension": ".py",
   "mimetype": "text/x-python",
   "name": "python",
   "nbconvert_exporter": "python",
   "pygments_lexer": "ipython3",
   "version": "3.12.4"
  }
 },
 "nbformat": 4,
 "nbformat_minor": 5
}
