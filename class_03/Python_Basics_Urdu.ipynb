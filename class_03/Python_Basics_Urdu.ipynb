{
 "cells": [
  {
   "cell_type": "markdown",
   "id": "bd3a2df9",
   "metadata": {},
   "source": [
    "# Python Basics - Roman Urdu Explanation aur Practice\n",
    "Is notebook mein hum **Variables, Lists, Functions, For Loops, Print aur Python Notebook** ko Roman Urdu mein samjhein ge aur un par practice karein ge."
   ]
  },
  {
   "cell_type": "markdown",
   "id": "b24b8482",
   "metadata": {},
   "source": [
    "## 🔢 Data Types (Kis qisam ka data?)\n",
    "Python mein kuch common data types hain:\n",
    "- **int** (number, jaise 5, 10)\n",
    "- **float** (decimal number, jaise 3.14, 2.0)\n",
    "- **str** (text ya string, jaise \"Hello\")\n",
    "- **bool** (True ya False)\n",
    "\n",
    "**Example:**"
   ]
  },
  {
   "cell_type": "code",
   "execution_count": null,
   "id": "32e52e12",
   "metadata": {},
   "outputs": [],
   "source": [
    "num = 5           # int\n",
    "pi = 3.14         # float\n",
    "name = \"Ali\"     # str\n",
    "is_student = True # bool\n",
    "print(num, type(num))\n",
    "print(pi, type(pi))\n",
    "print(name, type(name))\n",
    "print(is_student, type(is_student))"
   ]
  },
  {
   "cell_type": "markdown",
   "id": "41054d40",
   "metadata": {},
   "source": [
    "## ➕ Operators (Jor, Tafreeq, etc.)\n",
    "Python mein operators wo symbols hain jo numbers ya values par kaam karte hain (jaise jorna, tafreeq karna, etc.).\n",
    "\n",
    "**Kuch common operators:**\n",
    "- `+` (plus): Jorna (Addition)\n",
    "- `-` (minus): Tafreeq (Subtraction)\n",
    "- `*` (star): Zarb (Multiplication)\n",
    "- `/` (slash): Taqseem (Division)\n",
    "- `==` (double equal): Barabar hai ya nahi (Comparison)\n",
    "- `!=` (not equal): Barabar nahi hai\n",
    "- `>` (greater than): Bara hai\n",
    "- `<` (less than): Chota hai\n",
    "\n",
    "**Example:**"
   ]
  },
  {
   "cell_type": "code",
   "execution_count": null,
   "id": "36463ff5",
   "metadata": {},
   "outputs": [
    {
     "name": "stdout",
     "output_type": "stream",
     "text": [
      "Addition: 13\n",
      "Subtraction: 7\n",
      "Multiply: 30\n",
      "Divide: 3.3333333333333335\n",
      "Barabar hai? False\n",
      "Bara hai? True\n"
     ]
    }
   ],
   "source": [
    "a = 10\n",
    "b = 3\n",
    "print(\"Addition:\", a + b)         # 13\n",
    "print(\"Subtraction:\", a - b)       # 7\n",
    "print(\"Multiply:\", a * b)          # 30\n",
    "print(\"Divide:\", a / b)       # 3.333...\n",
    "print(\"Barabar hai?\", a == b)  # False\n",
    "print(\"Bara hai?\", a > b)      # True"
   ]
  },
  {
   "cell_type": "markdown",
   "id": "40ceeb16",
   "metadata": {},
   "source": [
    "## 1️⃣ Variable\n",
    "**Kya hota hai?**\n",
    "Variable aik **box** hota hai jo data ko temporarily store karta hai.\n",
    "\n",
    "**Kyu istemal karte hain?**\n",
    "- Data ko bar bar likhne ki bajaye aik jagah store kar lete hain.\n",
    "- Code ko clean aur reusable banata hai.\n",
    "- Calculations aur dusray functions mein data use karna easy hota hai.\n",
    "\n",
    "**Kaise banate hain?**\n",
    "- Naam likho\n",
    "- `=` lagao\n",
    "- Value likho jo store karni hai\n",
    "\n",
    "**Example:**"
   ]
  },
  {
   "cell_type": "code",
   "execution_count": null,
   "id": "bc908f97",
   "metadata": {},
   "outputs": [],
   "source": [
    "name = \"Owais\"\n",
    "print(\"Name:\", name)"
   ]
  },
  {
   "cell_type": "markdown",
   "id": "8eec3dfe",
   "metadata": {},
   "source": [
    "## 📝 Input Function (User se value lena)\n",
    "Kabhi kabhi humein user se koi value leni hoti hai. Iske liye Python mein `input()` function use hota hai.\n",
    "\n",
    "**Example:**"
   ]
  },
  {
   "cell_type": "code",
   "execution_count": null,
   "id": "9a33a1da",
   "metadata": {},
   "outputs": [
    {
     "name": "stdout",
     "output_type": "stream",
     "text": [
      "Aapka naam: owais\n"
     ]
    }
   ],
   "source": [
    "user_name = input(\"Apna naam likhein: \")\n",
    "print(\"Aapka naam:\", user_name)"
   ]
  },
  {
   "cell_type": "markdown",
   "id": "d8117210",
   "metadata": {},
   "source": [
    "## 2️⃣ List\n",
    "**Kya hoti hai?**\n",
    "List aik **box** hota hai jo **aik se ziada cheezein ek sath store karta hai**.\n",
    "\n",
    "**Kyu istemal karte hain?**\n",
    "- Multiple values ko aik variable mein rakhne ke liye.\n",
    "- Loop chala kar un values ko process karne ke liye.\n",
    "\n",
    "**Kaise banate hain?**\n",
    "- Square brackets `[]` use kar ke items ko comma se separate kar ke likhte hain.\n",
    "\n",
    "**Example:**"
   ]
  },
  {
   "cell_type": "code",
   "execution_count": null,
   "id": "67fd1a3f",
   "metadata": {},
   "outputs": [],
   "source": [
    "fruits_list = [\"apple\", \"banana\", \"mango\"]\n",
    "print(\"Fruits List:\", fruits_list)"
   ]
  },
  {
   "cell_type": "markdown",
   "id": "2a4d40dc",
   "metadata": {},
   "source": [
    "## 2️⃣➕ Dictionary\n",
    "**Kya hoti hai?**\n",
    "Dictionary aik **box** hai jo **cheezon ko naam (key) ke sath store karta hai**. Matlab har cheez ka apna ek label hota hai.\n",
    "\n",
    "**Kyu istemal karte hain?**\n",
    "- Jab humein data ko naam ke sath store karna ho, jaise student ka naam aur uski age.\n",
    "- Data ko asaani se dhoondhne ke liye.\n",
    "\n",
    "**Kaise banate hain?**\n",
    "- Curly brackets `{}` use karte hain.\n",
    "- Har item ke liye key aur value likhte hain, jaise `'naam': 'Owais'`.\n",
    "- Items ko comma se separate karte hain.\n",
    "\n",
    "**Example:**"
   ]
  },
  {
   "cell_type": "code",
   "execution_count": null,
   "id": "b48858ca",
   "metadata": {},
   "outputs": [],
   "source": [
    "student = {\"naam\": \"Owais\", \"age\": 15, \"city\": \"Karachi\"}\n",
    "print(\"Student Dictionary:\", student)"
   ]
  },
  {
   "cell_type": "markdown",
   "id": "c4e62154",
   "metadata": {},
   "source": [
    "## 3️⃣ Function\n",
    "**Kya hota hai?**\n",
    "Function aik **block of code hota hai jo specific kaam karta hai aur bar bar istemal ho sakta hai.**\n",
    "\n",
    "**Kyu istemal karte hain?**\n",
    "- Bar bar likhne wale code ko ek jagah likhne ke liye.\n",
    "- Code ko organized aur reusable banane ke liye.\n",
    "\n",
    "**Kaise banate hain?**\n",
    "- `def` likhte hain function banane ke liye.\n",
    "- Naam aur brackets `()` dete hain.\n",
    "- Colon `:` aur neeche code likhte hain.\n",
    "\n",
    "**Example:**"
   ]
  },
  {
   "cell_type": "code",
   "execution_count": null,
   "id": "9750bdc3",
   "metadata": {},
   "outputs": [],
   "source": [
    "def greet(name):\n",
    "    print(\"Heya!\", name)\n",
    "\n",
    "greet(name)"
   ]
  },
  {
   "cell_type": "markdown",
   "id": "e14aff03",
   "metadata": {},
   "source": [
    "## 4️⃣ For Loop\n",
    "**Kya hota hai?**\n",
    "For loop aik **tool hota hai jo list ya kisi collection ke har item par chalta hai.**\n",
    "\n",
    "**Kyu istemal karte hain?**\n",
    "- List ke tamam items ko process karne ke liye.\n",
    "- Repeat hone wale kaam asaani se karne ke liye.\n",
    "\n",
    "**Kaise likhte hain?**\n",
    "- `for` + temporary variable + `in` + list ka naam + `:` aur neeche code likhte hain.\n",
    "\n",
    "**Example:**"
   ]
  },
  {
   "cell_type": "code",
   "execution_count": null,
   "id": "e1cb9809",
   "metadata": {},
   "outputs": [],
   "source": [
    "for fruit in fruits_list:\n",
    "    print(\"Fruit Name:\", fruit)"
   ]
  },
  {
   "cell_type": "markdown",
   "id": "4dcb0b2b",
   "metadata": {},
   "source": [
    "## 🏋️‍♂️ Practice Exercises\n",
    "Neeche kuch choti choti exercises hain. Try karein khud solve karne ki!\n",
    "1. Apna favourite color ek variable mein store karein aur print karein.\n",
    "2. Aik list banayein jismein 3 fruits ke naam hoon aur har fruit ko print karein (for loop use kar ke).\n",
    "3. Aik dictionary banayein jismein apna naam, age aur city ho aur print karein.\n",
    "4. User se koi number input lein aur usay print karein.\n",
    "5. Code mein aik comment likhein."
   ]
  },
  {
   "cell_type": "code",
   "execution_count": null,
   "id": "fcae6c1a",
   "metadata": {},
   "outputs": [],
   "source": [
    "## YAHA EXCERCISE KARAIN ##"
   ]
  },
  {
   "cell_type": "markdown",
   "id": "a9465cae",
   "metadata": {},
   "source": [
    "## 5️⃣ Print Function\n",
    "**Kya hota hai?**\n",
    "`print()` aik built-in function hota hai jo **cheezon ko screen par dikhata hai.**\n",
    "\n",
    "**Kyu istemal karte hain?**\n",
    "- Code aur values ko dekhne ke liye.\n",
    "- Debug aur output check karne ke liye.\n",
    "\n",
    "**Kaise use karte hain?**\n",
    "- `print()` aur uske andar jo dikhana hai wo likhte hain.\n",
    "\n",
    "**Example:**"
   ]
  },
  {
   "cell_type": "code",
   "execution_count": null,
   "id": "ce0dcd06",
   "metadata": {},
   "outputs": [],
   "source": [
    "print(\"Hello World\")"
   ]
  },
  {
   "cell_type": "markdown",
   "id": "36d87490",
   "metadata": {},
   "source": [
    "## 💬 Comments in Python (Code mein notes likhna)\n",
    "Kabhi kabhi code mein notes likhne hote hain jo sirf insan padhe, computer ignore kare. Iske liye `#` use karte hain.\n",
    "\n",
    "**Example:**"
   ]
  },
  {
   "cell_type": "code",
   "execution_count": null,
   "id": "0c7db508",
   "metadata": {},
   "outputs": [],
   "source": [
    "# Yeh aik comment hai, Python isay ignore karega\n",
    "print(\"Yeh sirf output hai\")"
   ]
  },
  {
   "cell_type": "markdown",
   "id": "d026718e",
   "metadata": {},
   "source": [
    "## 6️⃣ Python Notebook\n",
    "**Kya hota hai?**\n",
    "Notebook aik **interactive tool hota hai jahan code aur notes aik sath likh kar step-by-step seekh sakte hain.**\n",
    "\n",
    "**Kyu istemal karte hain?**\n",
    "- Step-by-step learning aur testing ke liye.\n",
    "- Code aur explanations ko aik sath likhne ke liye.\n",
    "- Visualization aur interactive exercises ke liye best hota hai.\n",
    "\n",
    "**Kaise istemal karte hain?**\n",
    "- Google Colab, Jupyter Notebook ya VS Code mein open kar ke cells mein code run karte hain."
   ]
  },
  {
   "cell_type": "markdown",
   "id": "9986dc82",
   "metadata": {},
   "source": [
    "## ✅ Recap Table\n",
    "| Term | Roman Urdu Explanation |\n",
    "|------|------------------------|\n",
    "| **Variable** | Temporary box data rakhne ke liye |\n",
    "| **List** | Aik se ziada cheezein store karne wala box |\n",
    "| **Function** | Specific kaam karne wala code block |\n",
    "| **For Loop** | List ki sari cheezein ek ek kar ke process karne ke liye |\n",
    "| **Print** | Cheezein screen par dikhane ke liye |\n",
    "| **Notebook** | Step-by-step interactive coding aur learning tool |"
   ]
  },
  {
   "cell_type": "markdown",
   "id": "9faa0806",
   "metadata": {},
   "source": [
    "## 📋 List ke Useful Functions\n",
    "- `append(item)`: List ke end par nayi cheez add karta hai.\n",
    "- `remove(item)`: List se koi cheez hata deta hai.\n",
    "- `sort()`: List ko chota se bara ya A-Z mein kar deta hai.\n",
    "- `len(list)`: List mein kitni cheezein hain, batata hai.\n",
    "\n",
    "**Example:**\n",
    "fruits = [\"apple\", \"banana\"]\n",
    "fruits.append(\"mango\")  # mango add ho gaya\n",
    "print(fruits)\n",
    "\n",
    "## 🗂️ Dictionary ke Useful Functions\n",
    "- `keys()`: Sab keys (labels) ki list deta hai.\n",
    "- `values()`: Sab values ki list deta hai.\n",
    "- `items()`: Key-value pairs ki list deta hai.\n",
    "- `get(key)`: Kisi key ki value safely nikalta hai.\n",
    "- `update({})`: Dictionary mein nayi cheezein add ya update karta hai.\n",
    "\n",
    "**Example:**\n",
    "student = {\"naam\": \"Ali\", \"age\": 14}\n",
    "print(student.keys())\n",
    "print(student.values())"
   ]
  },
  {
   "cell_type": "markdown",
   "id": "c72fbdf2",
   "metadata": {},
   "source": [
    "### List ko Access Karna (Indexing)\n",
    "List mein har cheez ka apna number (index) hota hai. Pehli cheez ka index 0 hota hai.\n",
    "\n",
    "**Example:**"
   ]
  },
  {
   "cell_type": "code",
   "execution_count": null,
   "id": "6af96cc5",
   "metadata": {},
   "outputs": [],
   "source": [
    "fruits = [\"apple\", \"banana\", \"mango\"]\n",
    "print(fruits[0])  # apple\n",
    "print(fruits[1])  # banana"
   ]
  },
  {
   "cell_type": "markdown",
   "id": "33ff3372",
   "metadata": {},
   "source": [
    "### Dictionary ko Access Karna (Key se)\n",
    "Dictionary mein har value ko uski key se access karte hain.\n",
    "\n",
    "**Example:**"
   ]
  },
  {
   "cell_type": "code",
   "execution_count": null,
   "id": "a8f8c02f",
   "metadata": {},
   "outputs": [],
   "source": [
    "student = {\"naam\": \"Ali\", \"age\": 14, \"city\": \"Karachi\"}\n",
    "print(student[\"naam\"])   # Ali\n",
    "print(student[\"city\"])   # Karachi"
   ]
  },
  {
   "cell_type": "markdown",
   "id": "52df471c",
   "metadata": {},
   "source": [
    "### List ke Functions - Examples"
   ]
  },
  {
   "cell_type": "code",
   "execution_count": null,
   "id": "dbd6dc59",
   "metadata": {},
   "outputs": [],
   "source": [
    "# append() - List mein new item add karna\n",
    "fruits = [\"apple\", \"banana\"]\n",
    "fruits.append(\"mango\")  # mango add ho gaya\n",
    "print(\"Append ke baad:\", fruits)"
   ]
  },
  {
   "cell_type": "code",
   "execution_count": null,
   "id": "5dbe298c",
   "metadata": {},
   "outputs": [],
   "source": [
    "# remove() - List se item hatana\n",
    "fruits = [\"apple\", \"banana\", \"mango\"]\n",
    "fruits.remove(\"banana\")  # banana hata diya\n",
    "print(\"Remove ke baad:\", fruits)"
   ]
  },
  {
   "cell_type": "code",
   "execution_count": null,
   "id": "08fe1408",
   "metadata": {},
   "outputs": [],
   "source": [
    "# sort() - List ko order mein karna\n",
    "fruits = [\"banana\", \"apple\", \"mango\"]\n",
    "fruits.sort()  # alphabetical order mein kar diya\n",
    "print(\"Sort ke baad:\", fruits)"
   ]
  },
  {
   "cell_type": "code",
   "execution_count": null,
   "id": "56c1bf00",
   "metadata": {},
   "outputs": [],
   "source": [
    "# len() - List ki length (size) nikalna\n",
    "fruits = [\"apple\", \"banana\", \"mango\"]\n",
    "print(\"List mein items ki tadaad:\", len(fruits))  # 3"
   ]
  },
  {
   "cell_type": "markdown",
   "id": "0b1c660c",
   "metadata": {},
   "source": [
    "### Dictionary ke Functions - Examples"
   ]
  },
  {
   "cell_type": "code",
   "execution_count": null,
   "id": "19535d67",
   "metadata": {},
   "outputs": [],
   "source": [
    "# keys() - Dictionary ki sari keys nikalna\n",
    "student = {\"naam\": \"Ali\", \"age\": 14, \"city\": \"Karachi\"}\n",
    "print(\"Keys:\", student.keys())"
   ]
  },
  {
   "cell_type": "code",
   "execution_count": null,
   "id": "6f422254",
   "metadata": {},
   "outputs": [],
   "source": [
    "# values() - Dictionary ki sari values nikalna\n",
    "student = {\"naam\": \"Ali\", \"age\": 14, \"city\": \"Karachi\"}\n",
    "print(\"Values:\", student.values())"
   ]
  },
  {
   "cell_type": "code",
   "execution_count": null,
   "id": "fce3ea66",
   "metadata": {},
   "outputs": [],
   "source": [
    "# items() - Key-value pairs nikalna\n",
    "student = {\"naam\": \"Ali\", \"age\": 14, \"city\": \"Karachi\"}\n",
    "print(\"Items:\", student.items())"
   ]
  },
  {
   "cell_type": "code",
   "execution_count": null,
   "id": "1e16395b",
   "metadata": {},
   "outputs": [],
   "source": [
    "# get() - Safe tareeqe se value nikalna\n",
    "student = {\"naam\": \"Ali\", \"age\": 14, \"city\": \"Karachi\"}\n",
    "print(\"get() se naam:\", student.get(\"naam\"))\n",
    "# get() safe hai kyunki agar key na ho to error nahi deta\n",
    "print(\"get() se country:\", student.get(\"country\", \"Not found\"))"
   ]
  },
  {
   "cell_type": "code",
   "execution_count": null,
   "id": "4cf8ca0d",
   "metadata": {},
   "outputs": [],
   "source": [
    "# update() - Dictionary mein nayi values add/update karna\n",
    "student = {\"naam\": \"Ali\", \"age\": 14}\n",
    "student.update({\"city\": \"Karachi\", \"age\": 15})  # Add city, update age\n",
    "print(\"Update ke baad:\", student)"
   ]
  },
  {
   "cell_type": "markdown",
   "id": "78c20f86",
   "metadata": {},
   "source": [
    "## 🎱 Tuples\n",
    "Tuple aik **box** jaisa hota hai lekin immutable yani badla nahi ja sakta.\n",
    "\n",
    "- Tuples round brackets `()` mein likhte hain.\n",
    "- Ek martaba create karne ke baad iski values change nahi kar sakte.\n",
    "\n",
    "**Example:**"
   ]
  },
  {
   "cell_type": "code",
   "execution_count": null,
   "id": "f38d00cd",
   "metadata": {},
   "outputs": [],
   "source": [
    "# Tuple example\n",
    "numbers = (1, 2, 3, 4)\n",
    "print(numbers)\n",
    "# numbers[0] = 5  # Error: Tuple is immutable\n",
    "print(numbers[2])  # 3"
   ]
  },
  {
   "cell_type": "markdown",
   "id": "4cd6a2ee",
   "metadata": {},
   "source": [
    "## 📂 File I/O\n",
    "File I/O se murad files ka read aur write karna hai.\n",
    "- `open()` function se file open karte hain.\n",
    "- `'r'` mode read ke liye, `'w'` mode write ke liye.\n",
    "\n",
    "**Example:**"
   ]
  },
  {
   "cell_type": "code",
   "execution_count": null,
   "id": "27eec443",
   "metadata": {},
   "outputs": [],
   "source": [
    "# Write to file\n",
    "with open(\"example.txt\", \"w\") as f:\n",
    "    f.write(\"Hello World\\n\")\n",
    "# Read from file\n",
    "with open(\"example.txt\", \"r\") as f:\n",
    "    content = f.read()\n",
    "print(\"File Content:\", content)"
   ]
  },
  {
   "cell_type": "markdown",
   "id": "12d0f2a7",
   "metadata": {},
   "source": [
    "## ⚠️ Error Handling\n",
    "Jab code mein koi galti (error) ho jaye, to program crash na kare balki usko handle karen.\n",
    "- `try` block mein code rakhein jahan error aa sakti ho.\n",
    "- `except` block mein error pakad ke reaction dein.\n",
    "- Optional `finally` block hamesha chalne wala hota hai.\n",
    "\n",
    "**Example:**"
   ]
  },
  {
   "cell_type": "code",
   "execution_count": null,
   "id": "e0888b64",
   "metadata": {},
   "outputs": [],
   "source": [
    "try:\n",
    "    x = int(input(\"Koi number do: \"))\n",
    "    print(\"Square:\", x*x)\n",
    "except ValueError:\n",
    "    print(\"Error: Number hi do!\")\n",
    "finally:\n",
    "    print(\"Program khatam.\")"
   ]
  },
  {
   "cell_type": "markdown",
   "id": "e7a6a317",
   "metadata": {},
   "source": [
    "## 🔍 Use Case: Without vs With try-except\n",
    "Neeche do examples hain: pehla bina try-except ke (crash), doosra try-except ke sath (handle)."
   ]
  },
  {
   "cell_type": "code",
   "execution_count": 6,
   "id": "978311f4",
   "metadata": {},
   "outputs": [
    {
     "name": "stdout",
     "output_type": "stream",
     "text": [
      "Result: 9\n"
     ]
    }
   ],
   "source": [
    "# Bina try-except ke\n",
    "number = int(input(\"Bina handle ke number do: \"))\n",
    "print(\"Result:\", number*number)"
   ]
  },
  {
   "cell_type": "code",
   "execution_count": 7,
   "id": "b1786299",
   "metadata": {},
   "outputs": [
    {
     "name": "stdout",
     "output_type": "stream",
     "text": [
      "Wrong input: Type Number only!\n"
     ]
    }
   ],
   "source": [
    "# Try-except ke sath\n",
    "try:\n",
    "    number = int(input(\"Handle ke saath number do: \"))\n",
    "    print(\"Result:\", number*number)\n",
    "except ValueError:\n",
    "    print(\"Wrong input: Type Number only!\")"
   ]
  },
  {
   "cell_type": "markdown",
   "id": "78941529",
   "metadata": {},
   "source": [
    "### Use Case: Tuples\n",
    "Kabhi agar aapko constant values group karni ho jo change na hon (jaise month names), tuples use karte hain.\n",
    "\n",
    "**Example:**"
   ]
  },
  {
   "cell_type": "code",
   "execution_count": null,
   "id": "aad56f43",
   "metadata": {},
   "outputs": [
    {
     "name": "stdout",
     "output_type": "stream",
     "text": [
      "Jan\n",
      "Feb\n",
      "Mar\n",
      "Apr\n"
     ]
    }
   ],
   "source": [
    "# Months of the year as tuple\n",
    "months = (\"Jan\", \"Feb\", \"Mar\", \"Apr\")\n",
    "for m in months:\n",
    "    print(m)\n",
    "# months[0] = 'January'  # Error: Tuples immutable\n",
    "\n",
    "# Example: Tuple of colors\n",
    "colors = (\"red\", \"green\", \"blue\")\n",
    "print(\"Colors tuple:\", colors)\n",
    "print(\"First color:\", colors[0])\n",
    "\n",
    "# Example: Tuple for student record (name, age, city)\n",
    "student_record = (\"Owais\", 15, \"Karachi\")\n",
    "print(\"Student Record:\", student_record)\n",
    "\n",
    "# Example: Tuple for coordinates (latitude, longitude)\n",
    "location = (24.8607, 67.0011)\n",
    "print(\"Location coordinates:\", location)"
   ]
  },
  {
   "cell_type": "markdown",
   "id": "65102b1a",
   "metadata": {},
   "source": [
    "### Use Case: File I/O\n",
    "Logs store karne ya data save karne ke liye file I/O use karte hain.\n",
    "\n",
    "**Example:**"
   ]
  },
  {
   "cell_type": "code",
   "execution_count": null,
   "id": "9cc32b0a",
   "metadata": {},
   "outputs": [],
   "source": [
    "# Simple logging example\n",
    "import datetime\n",
    "with open('app.log', 'a') as log_file:\n",
    "    log_file.write(f'[{datetime.datetime.now()}] Program started')\n",
    "print('Log entry added to app.log')"
   ]
  },
  {
   "cell_type": "markdown",
   "id": "1287dd8b",
   "metadata": {},
   "source": []
  },
  {
   "cell_type": "code",
   "execution_count": null,
   "id": "e44ef4f1",
   "metadata": {},
   "outputs": [],
   "source": [
    "# Tuple Data Structure: Immutable collection ke liye\n",
    "point = (10, 20)  # coordinates\n",
    "print('Point Coordinates:', point)\n",
    "\n",
    "months = ('Jan', 'Feb', 'Mar')\n",
    "print('Months Tuple:', months)"
   ]
  },
  {
   "cell_type": "markdown",
   "id": "bf11593f",
   "metadata": {},
   "source": [
    "## 🗄️ Data Structures Kya Hain?\n",
    "Data Structures wo tareeqay hain jin se hum data ko organize, store aur manage karte hain, taa ke hum asani se data read, write aur modify kar saken. Ye large ya complex data ko efficient tareeqay se istemal karne mein madad karte hain.\n",
    "\n",
    "**Use Case (Kaha kaam aate hain?):**\n",
    "- Jab aapko data ko logical groups mein arrange karna ho\n",
    "- Jab aapko fast lookup aur retrieval chahiye ho\n",
    "- Jab aapko data ki integrity maintain karni ho (immutable vs mutable)\n",
    "\n",
    "**Examples (Code):**\n",
    "```python\n",
    "# 1. List (Ordered aur mutable):\n",
    "fruits = [\"apple\", \"banana\", \"mango\"]\n",
    "print(fruits)\n",
    "\n",
    "# 2. Dictionary (Key-value pairs, mutable):\n",
    "student = {\"naam\": \"Ali\", \"age\": 15}\n",
    "print(student)\n",
    "\n",
    "# 3. Tuple (Ordered aur immutable):\n",
    "months = (\"Jan\", \"Feb\", \"Mar\")\n",
    "print(months)\n",
    "```"
   ]
  }
 ],
 "metadata": {
  "kernelspec": {
   "display_name": "base",
   "language": "python",
   "name": "python3"
  },
  "language_info": {
   "codemirror_mode": {
    "name": "ipython",
    "version": 3
   },
   "file_extension": ".py",
   "mimetype": "text/x-python",
   "name": "python",
   "nbconvert_exporter": "python",
   "pygments_lexer": "ipython3",
   "version": "3.12.4"
  }
 },
 "nbformat": 4,
 "nbformat_minor": 5
}
