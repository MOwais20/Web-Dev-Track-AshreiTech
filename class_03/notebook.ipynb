{
 "cells": [
  {
   "cell_type": "code",
   "execution_count": 24,
   "id": "cdc6e4c0",
   "metadata": {},
   "outputs": [],
   "source": [
    "def check(var):\n",
    "  if var > 5:\n",
    "    # return \"Greater\"\n",
    "    print(\"Greater\")\n",
    "  elif var == 5:\n",
    "    return \"Equal\"\n",
    "    # print(\"Equal\")\n",
    "  else:\n",
    "    # return \"smaller\"\n",
    "    print(\"Smaller\")\n",
    "    "
   ]
  },
  {
   "cell_type": "code",
   "execution_count": 26,
   "id": "c4cdeba7",
   "metadata": {},
   "outputs": [
    {
     "name": "stdout",
     "output_type": "stream",
     "text": [
      "Variable Value: Equal\n"
     ]
    }
   ],
   "source": [
    "\n",
    "\n",
    "number_check = check(5)\n",
    "\n",
    "print(\"Variable Value:\", number_check)"
   ]
  },
  {
   "cell_type": "code",
   "execution_count": 12,
   "id": "30e4b25f",
   "metadata": {},
   "outputs": [
    {
     "name": "stdout",
     "output_type": "stream",
     "text": [
      "Number: 45 <class 'int'>\n",
      "You entered: 3 <class 'str'>\n"
     ]
    }
   ],
   "source": [
    "var = input(\"Enter a number: \")\n",
    "\n",
    "number = int(\"45\")\n",
    "print(\"Number:\", number, type(number))\n",
    "\n",
    "print(\"You entered:\", var, type(var))"
   ]
  },
  {
   "cell_type": "code",
   "execution_count": 13,
   "id": "df3fc4b2",
   "metadata": {},
   "outputs": [],
   "source": [
    "def Calculator(var1, var2, operation):\n",
    "    if operation == \"add\":\n",
    "        print(var1 + var2)\n",
    "    elif operation == \"subtract\":\n",
    "        print(var1 - var2)\n",
    "    elif operation == \"multiplication\":\n",
    "        print(var1 * var2)\n",
    "    elif operation == \"division\":\n",
    "        print(var1 / var2)\n",
    "    else:\n",
    "        print(\"You entered wrong operation\")\n",
    "\n",
    "\n",
    "user_input_one = int(input(\"Enter var1: \"))\n",
    "user_input_two = int(input(\"Enter var2: \"))\n",
    "user_input_operation = input(\"Enter Operation Name\")\n",
    "\n",
    "\n"
   ]
  },
  {
   "cell_type": "code",
   "execution_count": 14,
   "id": "57edce5f",
   "metadata": {},
   "outputs": [
    {
     "name": "stdout",
     "output_type": "stream",
     "text": [
      "5\n"
     ]
    }
   ],
   "source": [
    "Calculator(user_input_one, user_input_two, user_input_operation)\n"
   ]
  },
  {
   "cell_type": "code",
   "execution_count": null,
   "id": "0a7f70cc",
   "metadata": {},
   "outputs": [],
   "source": []
  }
 ],
 "metadata": {
  "kernelspec": {
   "display_name": "base",
   "language": "python",
   "name": "python3"
  },
  "language_info": {
   "codemirror_mode": {
    "name": "ipython",
    "version": 3
   },
   "file_extension": ".py",
   "mimetype": "text/x-python",
   "name": "python",
   "nbconvert_exporter": "python",
   "pygments_lexer": "ipython3",
   "version": "3.12.4"
  }
 },
 "nbformat": 4,
 "nbformat_minor": 5
}
