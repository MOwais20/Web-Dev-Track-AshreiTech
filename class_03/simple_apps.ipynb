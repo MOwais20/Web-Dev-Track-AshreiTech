{
 "cells": [
  {
   "cell_type": "code",
   "execution_count": 5,
   "id": "c89c283d",
   "metadata": {},
   "outputs": [],
   "source": [
    "def simple_calculator():\n",
    "    \"\"\"\n",
    "    Ye function ek simple calculator implement karta hai jo basic arithmetic operations\n",
    "    perform kar sakta hai: addition, subtraction, multiplication, division\n",
    "    \"\"\"\n",
    "    print(\"\\n=== Simple Calculator ===\")\n",
    "    print(\"Yahan aap basic calculations kar sakte hain\")\n",
    "    \n",
    "    # User input lena\n",
    "    try:\n",
    "        num1 = float(input(\"Pehla number daakhil karein: \"))\n",
    "        num2 = float(input(\"Dusra number daakhil karein: \"))\n",
    "        operation = input(\"Operation chunein (+, -, *, /): \")\n",
    "        \n",
    "        # Operation perform karna\n",
    "        if operation == '+':\n",
    "            result = num1 + num2\n",
    "            print(f\"Addition result: {num1} + {num2} = {result}\")\n",
    "            return result\n",
    "        elif operation == '-':\n",
    "            result = num1 - num2\n",
    "            print(f\"Subtraction result: {num1} - {num2} = {result}\")\n",
    "        elif operation == '*':\n",
    "            result = num1 * num2\n",
    "            print(f\"Multiplication result: {num1} * {num2} = {result}\")\n",
    "        elif operation == '/':\n",
    "            # Division by zero check\n",
    "            if num2 == 0:\n",
    "                print(\"Error: Zero se divide nahi kar sakte\")\n",
    "            else:\n",
    "                result = num1 / num2\n",
    "                print(f\"Division result: {num1} / {num2} = {result}\")\n",
    "        else:\n",
    "            print(\"Invalid operation! Sirf +, -, *, / supported hain\")\n",
    "    \n",
    "    except ValueError:\n",
    "        print(\"Error: Valid numbers daakhil karein\")\n",
    "\n",
    "\n"
   ]
  },
  {
   "cell_type": "code",
   "execution_count": 6,
   "id": "6dcd33c0",
   "metadata": {},
   "outputs": [
    {
     "name": "stdout",
     "output_type": "stream",
     "text": [
      "\n",
      "=== Simple Calculator ===\n",
      "Yahan aap basic calculations kar sakte hain\n",
      "Addition result: 2.5 + 2.5 = 5.0\n"
     ]
    },
    {
     "data": {
      "text/plain": [
       "5.0"
      ]
     },
     "execution_count": 6,
     "metadata": {},
     "output_type": "execute_result"
    }
   ],
   "source": [
    "simple_calculator()"
   ]
  },
  {
   "cell_type": "code",
   "execution_count": null,
   "id": "f5f74c7a",
   "metadata": {},
   "outputs": [
    {
     "name": "stdout",
     "output_type": "stream",
     "text": [
      "Index: 1, Fruit: Banana\n",
      "Index: 2, Fruit: Apple\n",
      "Index: 3, Fruit: Mango\n",
      "Index: 4, Fruit: Orange\n"
     ]
    }
   ],
   "source": [
    "fruits = [\"Banana\", \"Apple\", \"Mango\", \"Orange\"]\n",
    "\n",
    "for index, x in enumerate(fruits):\n",
    "    print(f\"Index: {index}, Fruit: {x}\")"
   ]
  },
  {
   "cell_type": "code",
   "execution_count": null,
   "id": "b9947bce",
   "metadata": {},
   "outputs": [],
   "source": [
    "def todo_list_app():\n",
    "    \"\"\"\n",
    "    Ye function ek simple to-do list application implement karta hai\n",
    "    jisme user tasks add, view, mark as done aur delete kar sakta hai\n",
    "    \"\"\"\n",
    "    tasks = []  # Empty list to store tasks\n",
    "    \n",
    "    print(\"\\n=== To-Do List Application ===\")\n",
    "    \n",
    "    while True:\n",
    "        print(\"\\nOptions:\")\n",
    "        print(\"1: Task add karein\")\n",
    "        print(\"2: Tasks dekhein\")\n",
    "        print(\"3: Task ko complete mark karein\")\n",
    "        print(\"4: Task delete karein\")\n",
    "        print(\"5: Exit\")\n",
    "        \n",
    "        choice = input(\"Option chunein (1-5): \")\n",
    "        \n",
    "        if choice == '1':  # Add task\n",
    "            task = input(\"New task daakhil karein: \")\n",
    "            tasks.append({\"task\": task, \"completed\": False})\n",
    "            print(f\"Task '{task}' added successfully!\")\n",
    "            \n",
    "        elif choice == '2':  # View tasks\n",
    "            if not tasks:\n",
    "                print(\"Koi task nahi hai\")\n",
    "            else:\n",
    "                print(\"\\nTasks:\")\n",
    "                for idx, task in enumerate(tasks, 1):\n",
    "                    status = \"✓\" if task[\"completed\"] else \"✗\"\n",
    "                    print(f\"{idx}. [{status}] {task['task']}\")\n",
    "                    \n",
    "        elif choice == '3':  # Mark task as done\n",
    "            if not tasks:\n",
    "                print(\"Koi task nahi hai\")\n",
    "            else:\n",
    "                try:\n",
    "                    task_idx = int(input(\"Complete karne ke liye task number daakhil karein: \")) - 1\n",
    "                    # range(len(tasks)) ek aisi range banata hai jo 0 se lekar (len(tasks) - 1) tak hoti hai, \n",
    "                    # yani valid task indexes ke liye check karta hai\n",
    "                    if task_idx in range(len(tasks)):\n",
    "                        # Task ko complete mark karna\n",
    "                        tasks[task_idx][\"completed\"] = True\n",
    "                        task_name = tasks[task_idx][\"task\"]\n",
    "                        print(f\"Task '{task_name}' complete mark kar diya gaya\")\n",
    "                    else:\n",
    "                        print(\"Invalid task number\")\n",
    "                except ValueError:\n",
    "                    print(\"Valid number daakhil karein\")\n",
    "                    \n",
    "        elif choice == '4':  # Delete task\n",
    "            if not tasks:\n",
    "                print(\"Koi task nahi hai\")\n",
    "            else:\n",
    "                try:\n",
    "                    task_idx = int(input(\"Delete karne ke liye task number daakhil karein: \")) - 1\n",
    "                    if 0 <= task_idx < len(tasks):\n",
    "                        deleted_task = tasks.pop(task_idx)\n",
    "                        print(f\"Task '{deleted_task['task']}' delete kar diya gaya\")\n",
    "                    else:\n",
    "                        print(\"Invalid task number\")\n",
    "                except ValueError:\n",
    "                    print(\"Valid number daakhil karein\")\n",
    "                    \n",
    "        elif choice == '5':  # Exit\n",
    "            print(\"To-Do List application se bahar nikal rahe hain...\")\n",
    "            break\n",
    "            \n",
    "        else:\n",
    "            print(\"Invalid choice! 1-5 ke beech number chunein\")\n",
    "\n"
   ]
  },
  {
   "cell_type": "code",
   "execution_count": 9,
   "id": "e1b1084d",
   "metadata": {},
   "outputs": [
    {
     "name": "stdout",
     "output_type": "stream",
     "text": [
      "\n",
      "=== To-Do List Application ===\n",
      "\n",
      "Options:\n",
      "1: Task add karein\n",
      "2: Tasks dekhein\n",
      "3: Task ko complete mark karein\n",
      "4: Task delete karein\n",
      "5: Exit\n",
      "Task 'wake up at 9o clock' added successfully!\n",
      "\n",
      "Options:\n",
      "1: Task add karein\n",
      "2: Tasks dekhein\n",
      "3: Task ko complete mark karein\n",
      "4: Task delete karein\n",
      "5: Exit\n",
      "\n",
      "Tasks:\n",
      "1. [✗] wake up at 9o clock\n",
      "\n",
      "Options:\n",
      "1: Task add karein\n",
      "2: Tasks dekhein\n",
      "3: Task ko complete mark karein\n",
      "4: Task delete karein\n",
      "5: Exit\n",
      "Task 'wake up at 9o clock' complete mark kar diya gaya\n",
      "\n",
      "Options:\n",
      "1: Task add karein\n",
      "2: Tasks dekhein\n",
      "3: Task ko complete mark karein\n",
      "4: Task delete karein\n",
      "5: Exit\n",
      "Invalid choice! 1-5 ke beech number chunein\n",
      "\n",
      "Options:\n",
      "1: Task add karein\n",
      "2: Tasks dekhein\n",
      "3: Task ko complete mark karein\n",
      "4: Task delete karein\n",
      "5: Exit\n",
      "To-Do List application se bahar nikal rahe hain...\n"
     ]
    }
   ],
   "source": [
    "todo_list_app()"
   ]
  },
  {
   "cell_type": "code",
   "execution_count": 7,
   "id": "ed7f0b8e",
   "metadata": {},
   "outputs": [
    {
     "name": "stdout",
     "output_type": "stream",
     "text": [
      "Name: 4\n"
     ]
    }
   ],
   "source": [
    "# range_var = range(1, 11)  # 1 se lekar 10 tak ka range\n",
    "\n",
    "# print(\"Range values:\", range_var)\n",
    "\n",
    "name = \"Owais\"\n",
    "\n",
    "fruits = [\"Banana\", \"Apple\", \"Mango\", \"Orange\"]\n",
    "\n",
    "print(\"Name:\", len(fruits))\n",
    "\n",
    "\n"
   ]
  },
  {
   "cell_type": "code",
   "execution_count": null,
   "id": "15b95c9c",
   "metadata": {},
   "outputs": [],
   "source": [
    "def temperature_converter():\n",
    "    \"\"\"\n",
    "    Ye function temperature ko Celsius se Fahrenheit mein aur vice versa convert karta hai\n",
    "    \"\"\"\n",
    "    print(\"\\n=== Temperature Converter ===\")\n",
    "    print(\"1: Celsius to Fahrenheit\")\n",
    "    print(\"2: Fahrenheit to Celsius\")\n",
    "    \n",
    "    try:\n",
    "        choice = int(input(\"Conversion type chunein (1 ya 2): \"))\n",
    "        \n",
    "        if choice == 1:  # Celsius to Fahrenheit\n",
    "            celsius = float(input(\"Temperature Celsius mein daakhil karein: \"))\n",
    "            fahrenheit = (celsius * 9/5) + 32\n",
    "            print(f\"{celsius}°C = {fahrenheit}°F\")\n",
    "            \n",
    "        elif choice == 2:  # Fahrenheit to Celsius\n",
    "            fahrenheit = float(input(\"Temperature Fahrenheit mein daakhil karein: \"))\n",
    "            celsius = (fahrenheit - 32) * 5/9\n",
    "            print(f\"{fahrenheit}°F = {celsius}°C\")\n",
    "            \n",
    "        else:\n",
    "            print(\"Invalid choice! Sirf 1 ya 2 chunein\")\n",
    "            \n",
    "    except ValueError:\n",
    "        print(\"Error: Valid number daakhil karein\")"
   ]
  }
 ],
 "metadata": {
  "kernelspec": {
   "display_name": "base",
   "language": "python",
   "name": "python3"
  },
  "language_info": {
   "codemirror_mode": {
    "name": "ipython",
    "version": 3
   },
   "file_extension": ".py",
   "mimetype": "text/x-python",
   "name": "python",
   "nbconvert_exporter": "python",
   "pygments_lexer": "ipython3",
   "version": "3.12.4"
  }
 },
 "nbformat": 4,
 "nbformat_minor": 5
}
